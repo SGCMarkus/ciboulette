{
 "cells": [
  {
   "cell_type": "code",
   "execution_count": 1,
   "metadata": {},
   "outputs": [],
   "source": [
    "from astropy import units as u\n",
    "from astroquery.simbad import Simbad\n",
    "from astropy.coordinates import SkyCoord\n",
    "import astropy.coordinates as coord\n",
    "from alpaca import Telescope\n",
    "from ciboulette.base import ciboulettepy as Cbl"
   ]
  },
  {
   "cell_type": "code",
   "execution_count": 2,
   "metadata": {},
   "outputs": [],
   "source": [
    "# Initialisation Ciboulette\n",
    "cbl = Cbl.Ciboulette()\n",
    "# Initialisation Telescope\n",
    "cbl.device = 2\n",
    "telescope = Telescope(cbl.server, cbl.device)\n",
    "telescope.sitelatitude(cbl.site_lat)\n",
    "telescope.sitelongitude(cbl.site_long)\n",
    "telescope.unpark()\n",
    "telescope.tracking(True)"
   ]
  },
  {
   "cell_type": "code",
   "execution_count": 3,
   "metadata": {},
   "outputs": [
    {
     "name": "stdout",
     "output_type": "stream",
     "text": [
      " MAIN_ID     RA      DEC    RA_PREC DEC_PREC COO_ERR_MAJA COO_ERR_MINA COO_ERR_ANGLE COO_QUAL COO_WAVELENGTH     COO_BIBCODE    \n",
      "          \"h:m:s\"  \"d:m:s\"                       mas          mas           deg                                                 \n",
      "--------- -------- -------- ------- -------- ------------ ------------ ------------- -------- -------------- -------------------\n",
      "NGC  2632 08 40 24 +19 40.0       4        4           --           --             0        E              O 2009MNRAS.399.2146W\n"
     ]
    }
   ],
   "source": [
    "objet = 'm44'\n",
    "result_table = Simbad.query_object(objet)\n",
    "result_table.pprint(max_width=254)\n",
    "c = coord.SkyCoord(ra=result_table['RA'], dec=result_table['DEC'], unit=(u.deg, u.deg))\n",
    "RA = c.ra.deg[0]\n",
    "DEC = c.dec.deg[0]\n",
    "\n",
    "# Déplacement\n",
    "telescope.slewtocoordinates(RA,DEC)"
   ]
  },
  {
   "cell_type": "code",
   "execution_count": null,
   "metadata": {},
   "outputs": [],
   "source": []
  }
 ],
 "metadata": {
  "kernelspec": {
   "display_name": "Python 3",
   "language": "python",
   "name": "python3"
  },
  "language_info": {
   "codemirror_mode": {
    "name": "ipython",
    "version": 3
   },
   "file_extension": ".py",
   "mimetype": "text/x-python",
   "name": "python",
   "nbconvert_exporter": "python",
   "pygments_lexer": "ipython3",
   "version": "3.8.5"
  }
 },
 "nbformat": 4,
 "nbformat_minor": 4
}
