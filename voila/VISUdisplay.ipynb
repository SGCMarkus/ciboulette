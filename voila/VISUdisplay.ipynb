{
 "cells": [
  {
   "cell_type": "code",
   "execution_count": 1,
   "id": "23edf12b-5da0-4001-8389-c44ce647ed5b",
   "metadata": {},
   "outputs": [],
   "source": [
    "import ipywidgets as widgets\n",
    "from ipywidgets import Button, Layout\n",
    "from IPython.display import display\n",
    "import matplotlib.pyplot as plt\n",
    "import webbrowser\n",
    "from ciboulette.base import ciboulette\n",
    "from ciboulette.utils import exposure\n",
    "from ciboulette.indiclient.camera import QHY5MCam"
   ]
  },
  {
   "cell_type": "code",
   "execution_count": 104,
   "id": "874d3ed5-f82b-4760-9f41-c813aa2b2a56",
   "metadata": {},
   "outputs": [],
   "source": [
    "camvisu = ciboulette.Ciboulette()\n",
    "camvisu.observer_name = 'CAMVISU'\n",
    "camvisu.qhy5M\n",
    "exp = exposure.Exposure()\n",
    "exp.exp_time = 15\n",
    "Latency = 2.4\n",
    "Gain = 35\n",
    "camvisu.exposure = exp"
   ]
  },
  {
   "cell_type": "code",
   "execution_count": 8,
   "id": "92185c65-d247-48ed-af4e-19f10655c141",
   "metadata": {},
   "outputs": [],
   "source": [
    "while True:\n",
    "    try:\n",
    "        qhy5M = QHY5MCam('192.168.1.30',7628)\n",
    "        error = ''\n",
    "        break\n",
    "    except:\n",
    "        error = 'Noconnect'\n",
    "        break"
   ]
  },
  {
   "cell_type": "code",
   "execution_count": 61,
   "id": "04fb11e0-7c32-4ff2-a9b6-a064e14cf79b",
   "metadata": {
    "tags": []
   },
   "outputs": [
    {
     "data": {
      "application/vnd.jupyter.widget-view+json": {
       "model_id": "ed695a1068c04ff1bed08962f6aac679",
       "version_major": 2,
       "version_minor": 0
      },
      "text/plain": [
       "Output(layout=Layout(width='100%'))"
      ]
     },
     "metadata": {},
     "output_type": "display_data"
    }
   ],
   "source": [
    "output = widgets.Output(layout={'width': '100%'})\n",
    "output"
   ]
  },
  {
   "cell_type": "code",
   "execution_count": 63,
   "id": "b677b66b-8870-4a01-a859-194aa680dcad",
   "metadata": {},
   "outputs": [
    {
     "data": {
      "application/vnd.jupyter.widget-view+json": {
       "model_id": "6a8462d272494e23b364737fd4cc3896",
       "version_major": 2,
       "version_minor": 0
      },
      "text/plain": [
       "Output(layout=Layout(width='100%'))"
      ]
     },
     "metadata": {},
     "output_type": "display_data"
    }
   ],
   "source": [
    "outputfits = widgets.Output(layout={'width': '100%'})\n",
    "outputfits"
   ]
  },
  {
   "cell_type": "code",
   "execution_count": 64,
   "id": "fc7e42c4-f820-47e5-a85e-98c58929f64e",
   "metadata": {},
   "outputs": [],
   "source": [
    "def on_go_clicked(b):\n",
    "    with outputfits:\n",
    "        outputfits.clear_output()\n",
    "        exp.now2label\n",
    "        qhy5M.gain = Gain\n",
    "        camvisu.exposure = exp\n",
    "        hdul = qhy5M.expose(camvisu.exposure[0],latency=Latency)\n",
    "        plt.figure(figsize=(15,15))\n",
    "        plt.gca().axis('off')\n",
    "        plt.imshow(hdul[0].data, origin='lower', cmap='gray',vmin = 0, vmax = 100)\n",
    "        plt.show()\n",
    "        hdul.close()\n",
    "        # take the fits"
   ]
  },
  {
   "cell_type": "code",
   "execution_count": 102,
   "id": "0bbd6379-aa08-43e1-ad13-fdddbec80076",
   "metadata": {},
   "outputs": [],
   "source": [
    "def on_start_clicked(b):\n",
    "    with outputfits:\n",
    "        while textnumber.value > 0 :\n",
    "            exp.now2label\n",
    "            qhy5M.gain = Gain\n",
    "            camvisu.exposure = exp\n",
    "            hdul = qhy5M.expose(camvisu.exposure[0],latency=Latency)\n",
    "            outputfits.clear_output()\n",
    "            plt.figure(figsize=(15,15))\n",
    "            plt.gca().axis('off')\n",
    "            plt.imshow(hdul[0].data, origin='lower', cmap='gray',vmin = 0, vmax = 100)\n",
    "            plt.show()\n",
    "            hdr = camvisu.extendedhdr(hdul[0].header)\n",
    "            hdul[0].header = hdr\n",
    "            filename = camvisu.observer_name + str(camvisu.exposure[1]) + '.fits'\n",
    "            hdul.writeto('dataset/'+filename)\n",
    "            hdul.close()\n",
    "            textnumber.value -= 1\n",
    "            # save the fits"
   ]
  },
  {
   "cell_type": "code",
   "execution_count": 105,
   "id": "b6ee709d-41b3-4ec6-a399-2876029c0fc2",
   "metadata": {},
   "outputs": [],
   "source": [
    "if error != 'Noconnect' :\n",
    "    buttongo = widgets.Button(description=\"Go Visu\",layout=Layout(width='100%'))\n",
    "    buttonstart = widgets.Button(description=\"Start\",layout=Layout(width='50%'))\n",
    "    textnumber = widgets.IntText(value=60,description='Nunber:',disabled=False,layout=Layout(width='50%'))\n",
    "    buttongo.on_click(on_go_clicked)\n",
    "    buttonstart.on_click(on_start_clicked)\n",
    "    \n",
    "    with output:\n",
    "        output.clear_output()\n",
    "        display(widgets.HBox([buttongo], width='100%'), widgets.HBox([textnumber, buttonstart]), width='100%')\n",
    "else :\n",
    "     with output:\n",
    "        output.clear_output()\n",
    "        display(print('Noconnect'))"
   ]
  },
  {
   "cell_type": "code",
   "execution_count": null,
   "id": "a80a91d3-136e-4906-b91e-143ce6b6c9ac",
   "metadata": {},
   "outputs": [],
   "source": []
  },
  {
   "cell_type": "code",
   "execution_count": null,
   "id": "4fa361c1-4e94-4c20-8512-7bf800ef65de",
   "metadata": {},
   "outputs": [],
   "source": []
  }
 ],
 "metadata": {
  "kernelspec": {
   "display_name": "Python 3 (ipykernel)",
   "language": "python",
   "name": "python3"
  },
  "language_info": {
   "codemirror_mode": {
    "name": "ipython",
    "version": 3
   },
   "file_extension": ".py",
   "mimetype": "text/x-python",
   "name": "python",
   "nbconvert_exporter": "python",
   "pygments_lexer": "ipython3",
   "version": "3.9.5"
  }
 },
 "nbformat": 4,
 "nbformat_minor": 5
}
