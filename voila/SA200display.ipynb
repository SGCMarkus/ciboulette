{
 "cells": [
  {
   "cell_type": "code",
   "execution_count": 29,
   "id": "23edf12b-5da0-4001-8389-c44ce647ed5b",
   "metadata": {},
   "outputs": [],
   "source": [
    "import ipywidgets as widgets\n",
    "from ipywidgets import Button, Layout\n",
    "from IPython.display import display\n",
    "import webbrowser\n",
    "from ciboulette.indiclient.spectrograph import SPECTROGRAPHsa200"
   ]
  },
  {
   "cell_type": "code",
   "execution_count": 5,
   "id": "92185c65-d247-48ed-af4e-19f10655c141",
   "metadata": {},
   "outputs": [],
   "source": [
    "while True:\n",
    "    try:\n",
    "        sa200 = SPECTROGRAPHsa200(host='192.168.1.53',port=7624)\n",
    "        ratio = 5\n",
    "        error = ''\n",
    "        break\n",
    "    except:\n",
    "        error = 'Noconnect'\n",
    "        break"
   ]
  },
  {
   "cell_type": "code",
   "execution_count": 30,
   "id": "04fb11e0-7c32-4ff2-a9b6-a064e14cf79b",
   "metadata": {},
   "outputs": [
    {
     "data": {
      "application/vnd.jupyter.widget-view+json": {
       "model_id": "e983a91e861a4b7880355f398fd66892",
       "version_major": 2,
       "version_minor": 0
      },
      "text/plain": [
       "Output(layout=Layout(width='100%'))"
      ]
     },
     "metadata": {},
     "output_type": "display_data"
    }
   ],
   "source": [
    "output = widgets.Output(layout={'width': '100%'})\n",
    "output"
   ]
  },
  {
   "cell_type": "code",
   "execution_count": 31,
   "id": "fc7e42c4-f820-47e5-a85e-98c58929f64e",
   "metadata": {},
   "outputs": [],
   "source": [
    "def on_button_clicked(b):\n",
    "    with output:\n",
    "        sa200.set_speed(1)\n",
    "        sa200.set_degree(slide.value*ratio)\n",
    "\n",
    "def on_button1_clicked(b):\n",
    "    with output:\n",
    "        slide.value = 1\n",
    "        \n",
    "def on_button5_clicked(b):\n",
    "    with output:\n",
    "        slide.value = 5\n",
    "\n",
    "def on_button30_clicked(b):\n",
    "    with output:\n",
    "        slide.value = 30\n",
    "        \n",
    "def on_button180_clicked(b):\n",
    "    with output:\n",
    "        slide.value = 180\n",
    "\n",
    "def on_button_1_clicked(b):\n",
    "    with output:\n",
    "        slide.value = -1\n",
    "        \n",
    "def on_button_5_clicked(b):\n",
    "    with output:\n",
    "        slide.value = -5\n",
    "\n",
    "def on_button_30_clicked(b):\n",
    "    with output:\n",
    "        slide.value = -30      \n",
    "        \n",
    "def on_button_180_clicked(b):\n",
    "    with output:\n",
    "        slide.value = -180"
   ]
  },
  {
   "cell_type": "code",
   "execution_count": 35,
   "id": "b6ee709d-41b3-4ec6-a399-2876029c0fc2",
   "metadata": {},
   "outputs": [],
   "source": [
    "if error != 'Noconnect' :\n",
    "    slide = widgets.IntSlider(description='degree',layout=Layout(width='50%'))\n",
    "    slide.min = -180\n",
    "    slide.max = 180\n",
    "    slide.value = 0\n",
    "    rotation = widgets.Button(description=\"Rotation\",layout=Layout(width='50%'))\n",
    "    button1 = widgets.Button(description=\"1°\",layout=Layout(width='50%'))\n",
    "    button5 = widgets.Button(description=\"5°\",layout=Layout(width='50%'))\n",
    "    button30 = widgets.Button(description=\"30°\",layout=Layout(width='50%'))\n",
    "    button180 = widgets.Button(description=\"180°\",layout=Layout(width='50%'))\n",
    "    button_1 = widgets.Button(description=\"-1°\",layout=Layout(width='50%'))\n",
    "    button_5 = widgets.Button(description=\"-5°\",layout=Layout(width='50%'))\n",
    "    button_30 = widgets.Button(description=\"-30°\",layout=Layout(width='50%'))\n",
    "    button_180 = widgets.Button(description=\"-180°\",layout=Layout(width='50%'))\n",
    "\n",
    "    rotation.on_click(on_button_clicked)\n",
    "    button1.on_click(on_button1_clicked)\n",
    "    button5.on_click(on_button5_clicked)\n",
    "    button30.on_click(on_button30_clicked)\n",
    "    button180.on_click(on_button180_clicked)\n",
    "    button_1.on_click(on_button_1_clicked)\n",
    "    button_5.on_click(on_button_5_clicked)\n",
    "    button_30.on_click(on_button_30_clicked)\n",
    "    button_180.on_click(on_button_180_clicked)\n",
    "\n",
    "    with output:\n",
    "        output.clear_output()\n",
    "        display(widgets.HBox([slide, rotation], width='100%'), widgets.HBox([button_180, button_30, button_5, button_1, button1, button5, button30, button180, button_180]), width='100%')\n",
    "else :\n",
    "     with output:\n",
    "        output.clear_output()\n",
    "        display(print('Noconnect'))\n"
   ]
  },
  {
   "cell_type": "code",
   "execution_count": null,
   "id": "c125c835-82f3-4d3f-8036-85e520300e83",
   "metadata": {},
   "outputs": [],
   "source": []
  },
  {
   "cell_type": "code",
   "execution_count": null,
   "id": "2cc95c4c-e484-4f45-bc20-f30cdf776d17",
   "metadata": {},
   "outputs": [],
   "source": []
  }
 ],
 "metadata": {
  "kernelspec": {
   "display_name": "Python 3 (ipykernel)",
   "language": "python",
   "name": "python3"
  },
  "language_info": {
   "codemirror_mode": {
    "name": "ipython",
    "version": 3
   },
   "file_extension": ".py",
   "mimetype": "text/x-python",
   "name": "python",
   "nbconvert_exporter": "python",
   "pygments_lexer": "ipython3",
   "version": "3.9.5"
  }
 },
 "nbformat": 4,
 "nbformat_minor": 5
}
