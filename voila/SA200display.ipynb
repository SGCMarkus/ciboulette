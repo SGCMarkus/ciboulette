{
 "cells": [
  {
   "cell_type": "code",
   "execution_count": 1,
   "id": "23edf12b-5da0-4001-8389-c44ce647ed5b",
   "metadata": {},
   "outputs": [],
   "source": [
    "import ipywidgets as widgets\n",
    "from ipywidgets import Button, Layout\n",
    "from IPython.display import display\n",
    "import webbrowser\n",
    "from ciboulette.indiclient.spectrograph import SPECTROGRAPHsa200"
   ]
  },
  {
   "cell_type": "code",
   "execution_count": 7,
   "id": "92185c65-d247-48ed-af4e-19f10655c141",
   "metadata": {},
   "outputs": [],
   "source": [
    "while True:\n",
    "    try:\n",
    "        sa200 = SPECTROGRAPHsa200(host='192.168.1.64',port=7624)\n",
    "        ratio = 2.75\n",
    "        error = ''\n",
    "        break\n",
    "    except:\n",
    "        error = 'Noconnect'\n",
    "        break"
   ]
  },
  {
   "cell_type": "code",
   "execution_count": 4,
   "id": "04fb11e0-7c32-4ff2-a9b6-a064e14cf79b",
   "metadata": {},
   "outputs": [
    {
     "data": {
      "application/vnd.jupyter.widget-view+json": {
       "model_id": "a412ebcfc7a04c26b7187b59a207a470",
       "version_major": 2,
       "version_minor": 0
      },
      "text/plain": [
       "Output(layout=Layout(width='100%'))"
      ]
     },
     "metadata": {},
     "output_type": "display_data"
    }
   ],
   "source": [
    "output = widgets.Output(layout={'width': '100%'})\n",
    "output"
   ]
  },
  {
   "cell_type": "code",
   "execution_count": 11,
   "id": "fc7e42c4-f820-47e5-a85e-98c58929f64e",
   "metadata": {},
   "outputs": [],
   "source": [
    "def on_button_clicked(b):\n",
    "    with output:\n",
    "        sa200.set_speed(1)\n",
    "        sa200.set_degree(slide.value*ratio)\n",
    "\n",
    "def on_button1_clicked(b):\n",
    "    with output:\n",
    "        slide.value = 1\n",
    "        \n",
    "def on_button5_clicked(b):\n",
    "    with output:\n",
    "        slide.value = 5\n",
    "\n",
    "def on_button45_clicked(b):\n",
    "    with output:\n",
    "        slide.value = 45\n",
    "        \n",
    "def on_button180_clicked(b):\n",
    "    with output:\n",
    "        slide.value = 180\n",
    "\n",
    "def on_button275_clicked(b):\n",
    "    with output:\n",
    "        slide.value = 275\n",
    "        \n",
    "def on_button360_clicked(b):\n",
    "    with output:\n",
    "        slide.value = 360"
   ]
  },
  {
   "cell_type": "code",
   "execution_count": 17,
   "id": "b6ee709d-41b3-4ec6-a399-2876029c0fc2",
   "metadata": {},
   "outputs": [],
   "source": [
    "if error != 'Noconnect' :\n",
    "    slide = widgets.IntSlider(description='degree',layout=Layout(width='100%'))\n",
    "    slide.min = 0\n",
    "    slide.max = 360\n",
    "    slide.value = 0\n",
    "    rotation = widgets.Button(description=\"Rotation\",layout=Layout(width='50%'))\n",
    "    button1 = widgets.Button(description=\"1°\",layout=Layout(width='50%'))\n",
    "    button5 = widgets.Button(description=\"5°\",layout=Layout(width='50%'))\n",
    "    button45 = widgets.Button(description=\"45°\",layout=Layout(width='50%'))\n",
    "    button180 = widgets.Button(description=\"180°\",layout=Layout(width='50%'))\n",
    "    button275 = widgets.Button(description=\"275°\",layout=Layout(width='50%'))\n",
    "    button360 = widgets.Button(description=\"360°\",layout=Layout(width='50%'))\n",
    "    \n",
    "    rotation.on_click(on_button_clicked)\n",
    "    button1.on_click(on_button1_clicked)\n",
    "    button5.on_click(on_button5_clicked)\n",
    "    button45.on_click(on_button45_clicked)\n",
    "    button180.on_click(on_button180_clicked)\n",
    "    button275.on_click(on_button275_clicked)\n",
    "    button360.on_click(on_button360_clicked)\n",
    "\n",
    "    with output:\n",
    "        output.clear_output()\n",
    "        display(widgets.HBox([slide, rotation], width='100%'), widgets.HBox([button1, button5, button45, button180, button275, button360]), width='100%')\n",
    "else :\n",
    "     with output:\n",
    "        output.clear_output()\n",
    "        display(print('Noconnect'))\n"
   ]
  },
  {
   "cell_type": "code",
   "execution_count": null,
   "id": "c125c835-82f3-4d3f-8036-85e520300e83",
   "metadata": {},
   "outputs": [],
   "source": []
  },
  {
   "cell_type": "code",
   "execution_count": null,
   "id": "2cc95c4c-e484-4f45-bc20-f30cdf776d17",
   "metadata": {},
   "outputs": [],
   "source": []
  }
 ],
 "metadata": {
  "kernelspec": {
   "display_name": "Python 3 (ipykernel)",
   "language": "python",
   "name": "python3"
  },
  "language_info": {
   "codemirror_mode": {
    "name": "ipython",
    "version": 3
   },
   "file_extension": ".py",
   "mimetype": "text/x-python",
   "name": "python",
   "nbconvert_exporter": "python",
   "pygments_lexer": "ipython3",
   "version": "3.9.5"
  }
 },
 "nbformat": 4,
 "nbformat_minor": 5
}
