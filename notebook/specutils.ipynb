{
 "cells": [
  {
   "cell_type": "code",
   "execution_count": null,
   "id": "2f4e1a23-dc8c-43f7-9620-757b49e8b2b6",
   "metadata": {},
   "outputs": [],
   "source": [
    "## Exemple whith specutils\n",
    "\n",
    "- Import matplotlid, datadownload and vsx class"
   ]
  },
  {
   "cell_type": "code",
   "execution_count": 17,
   "id": "2aadcdb2-33e7-4896-998a-02a6b843d4f3",
   "metadata": {},
   "outputs": [],
   "source": [
    "from astropy.io import fits\n",
    "from astropy import units as u\n",
    "import numpy as np\n",
    "from matplotlib import pyplot as plt\n",
    "from astropy.visualization import quantity_support"
   ]
  },
  {
   "cell_type": "code",
   "execution_count": 14,
   "id": "6d84fc51-447c-49df-ba37-912203156d45",
   "metadata": {},
   "outputs": [
    {
     "data": {
      "text/plain": [
       "<astropy.visualization.units.quantity_support.<locals>.MplQuantityConverter at 0x7fdf8c50eeb0>"
      ]
     },
     "execution_count": 14,
     "metadata": {},
     "output_type": "execute_result"
    }
   ],
   "source": [
    "quantity_support()"
   ]
  },
  {
   "cell_type": "code",
   "execution_count": 15,
   "id": "ced43961-8406-432b-a0f7-700e3b0b2b74",
   "metadata": {},
   "outputs": [],
   "source": [
    "f = fits.open('dbspectre/Pn_v1405cas-20211111.fits')  \n",
    "# The spectrum is in the second HDU of this file.\n",
    "specdata = f[0].data \n",
    "f.close() "
   ]
  },
  {
   "cell_type": "code",
   "execution_count": 16,
   "id": "7dd30010-c9d9-4b68-9b41-9f88e0ddda8d",
   "metadata": {},
   "outputs": [
    {
     "data": {
      "text/plain": [
       "(SIMPLE  =                    T / File does conform to FITS standard             \n",
       " BITPIX  =                  -32 / Number of bits per data pixel                  \n",
       " NAXIS   =                    1 / Number of data axes                            \n",
       " NAXIS1  =                  350 / Length of data axis 1                          \n",
       " CRVAL1  =            4223.1725 / Coordinate at reference pixel                  \n",
       " CDELT1  =          7.534140688 / Coordinate increment                           \n",
       " VERSION = 'ISIS V6.1.1'        / Software version                               \n",
       " OBJNAME = 'v1405 Cas'          / Current name of the object                     \n",
       " DATE-OBS= '2021-11-11T19:34:00' / Date of observation start                     \n",
       " EXPTIME =                 3000 / [s] Total time of exposure                     \n",
       " EXPTIME2= '        '           / Exposure decomposition                         \n",
       " BSS_INST= 'O85mmF6 SA200 ASI178MM' / Instrument                                 \n",
       " BSS_SITE= 'UT1     '           / Observation site                               \n",
       " OBSERVER= 'dtouzan@gmail.com'                                                   \n",
       " CUNIT1  = 'Angstrom'           / Wavelength unit                                \n",
       " CTYPE1  = 'Wavelength'         / Axis type                                      \n",
       " O_CAL   = 'B2IV    '           / Calibration object                             \n",
       " Q_CAL   = '0       '           / Quality flag 4-excellent                       \n",
       " CRPIX1  =                    1 / Reference pixel                                \n",
       " BSS_VHEL=                    0 / [km/s] Heliocentric speed                      \n",
       " BSS_COSM= 'Removed '                                                            \n",
       " BSS_TELL= 'None    '                                                            \n",
       " BSS_NORM= 'None    '                                                            \n",
       " SPE_RPOW=                  200 / Spectral resolution power                      \n",
       " JD-OBS  =                    0 / JD start observation                           \n",
       " JD-MID  =                    0 / JD mid observation                             \n",
       " JD-HEL  =                    0 / JD heliocentric mid-obs                        \n",
       " GEO_LONG=                -0.35 / Obs. geographic longitude                      \n",
       " GEO_LAT =                49.52 / Obs. geographic latitude                       \n",
       " GEO_ELEV=                  100 / Obs. geographic elevation                      ,\n",
       " array([ 4.1678185,  4.279823 ,  4.35669  ,  4.2275147,  4.0454392,\n",
       "         3.9146473,  4.0058236,  4.0842447,  4.1790776,  4.30536  ,\n",
       "         4.5006876,  5.2271395,  6.3826694,  7.8456106,  9.179068 ,\n",
       "         9.374492 ,  8.877306 ,  7.888597 ,  6.9036045,  6.1326475,\n",
       "         5.4776917,  4.900321 ,  4.596015 ,  4.239802 ,  3.9082677,\n",
       "         3.661974 ,  3.643936 ,  3.6940866,  3.8250766,  4.0573025,\n",
       "         4.1757092,  4.203809 ,  4.1710954,  4.117227 ,  4.112899 ,\n",
       "         4.069271 ,  4.026825 ,  4.0929747,  4.1255736,  4.0978155,\n",
       "         4.0404096,  4.052309 ,  3.9027123,  3.7039087,  3.5178897,\n",
       "         3.4969375,  3.5202267,  3.5528908,  3.590162 ,  3.6561143,\n",
       "         3.8179333,  4.0022817,  4.1831098,  4.2867494,  4.1476774,\n",
       "         4.022815 ,  4.020416 ,  4.107417 ,  4.039637 ,  3.9553268,\n",
       "         3.926429 ,  3.966758 ,  3.9220095,  3.8634202,  3.8232653,\n",
       "         3.6360078,  3.4556572,  3.313108 ,  3.23019  ,  3.204279 ,\n",
       "         3.1376865,  3.0514033,  2.957342 ,  2.7563694,  2.676883 ,\n",
       "         2.7154381,  2.871899 ,  3.1451156,  3.664727 ,  4.425567 ,\n",
       "         5.420642 ,  6.271482 ,  6.963051 ,  7.324959 ,  7.206848 ,\n",
       "         6.6157546,  6.1480665,  5.7894883,  5.525164 ,  5.1567526,\n",
       "         4.85963  ,  4.5822105,  4.28219  ,  3.9912593,  3.6081998,\n",
       "         3.2312403,  2.9409292,  2.7966368,  2.7616637,  2.7742157,\n",
       "         2.7994127,  2.903564 ,  2.9178488,  2.9066272,  2.9119215,\n",
       "         2.9030583,  2.887247 ,  2.8445306,  2.7664325,  2.703734 ,\n",
       "         2.6988401,  2.6529303,  2.5305262,  2.491448 ,  2.4876797,\n",
       "         2.4907975,  2.4840624,  2.4398892,  2.4459007,  2.4627755,\n",
       "         2.4546056,  2.3099463,  2.3242762,  2.3289578,  2.3018832,\n",
       "         2.3524857,  2.303398 ,  2.2947266,  2.3309348,  2.3308675,\n",
       "         2.4030626,  2.6040087,  2.9151175,  3.2784576,  3.395545 ,\n",
       "         3.2228842,  2.8650506,  2.504124 ,  2.5258222,  2.4901881,\n",
       "         2.4269912,  2.4029207,  2.3755436,  2.3975973,  2.370227 ,\n",
       "         2.215346 ,  2.2162957,  2.2152681,  2.2011852,  2.168392 ,\n",
       "         2.1309025,  2.0648322,  2.0922427,  2.2224283,  2.2162075,\n",
       "         2.0955818,  2.0045485,  1.9609746,  1.8894335,  2.008795 ,\n",
       "         2.0960727,  2.1088743,  2.0365644,  2.0239851,  2.072284 ,\n",
       "         2.1009197,  2.005764 ,  1.9693401,  1.9815346,  1.9920913,\n",
       "         1.9646134,  2.0028584,  1.9729246,  1.9272627,  1.9040803,\n",
       "         1.9707491,  1.9122415,  1.8453876,  1.8103896,  1.8220757,\n",
       "         1.8392142,  1.8645126,  1.864659 ,  1.7784921,  1.8168402,\n",
       "         1.83114  ,  1.8326532,  1.8456318,  1.9963287,  2.015367 ,\n",
       "         2.0128236,  2.0594413,  2.1769867,  2.1503277,  2.1290374,\n",
       "         2.1445541,  2.1621063,  2.0175085,  1.954988 ,  1.9854567,\n",
       "         2.0640044,  2.0575376,  2.0147004,  1.9590709,  1.9085735,\n",
       "         1.8268603,  1.8062426,  1.7944727,  1.7611123,  1.6792793,\n",
       "         1.621722 ,  1.6141982,  1.6385704,  1.6454437,  1.7648715,\n",
       "         1.8974051,  2.013449 ,  2.0729904,  2.212777 ,  2.1883726,\n",
       "         2.0562193,  1.8999882,  1.9791603,  1.9268856,  1.8936899,\n",
       "         1.8886245,  1.8612888,  1.9038521,  1.9049432,  1.857322 ,\n",
       "         1.766596 ,  1.7037888,  1.6541966,  1.6180319,  1.5942055,\n",
       "         1.5785837,  1.5141461,  1.5212002,  1.5609426,  1.5449256,\n",
       "         1.5214232,  1.5106264,  1.4706738,  1.3882226,  1.369126 ,\n",
       "         1.3636005,  1.4215883,  1.5100733,  1.520994 ,  1.5306044,\n",
       "         1.4895129,  1.4227917,  1.3642641,  1.3806113,  1.4096886,\n",
       "         1.4037356,  1.368354 ,  1.2923424,  1.3008298,  1.3010799,\n",
       "         1.2857172,  1.2603374,  1.2739519,  1.2693406,  1.2378896,\n",
       "         1.1975569,  1.2277867,  1.2766484,  1.255106 ,  1.2276598,\n",
       "         1.2881969,  1.2333727,  1.1839902,  1.1891291,  1.2336344,\n",
       "         1.1663132,  1.2017787,  1.2715914,  1.3896173,  1.5720961,\n",
       "         1.4736966,  1.3431598,  1.2684689,  1.2626926,  1.2236254,\n",
       "         1.1991308,  1.1759579,  1.1666098,  1.1868004,  1.2382909,\n",
       "         1.2706548,  1.25423  ,  1.1866125,  1.0945574,  1.058042 ,\n",
       "         0.9957361,  0.9474433,  0.9647149,  1.0512263,  1.1407061,\n",
       "         1.2943976,  1.5666265,  2.0239236,  2.9424856,  4.274066 ,\n",
       "         5.9598465,  7.892778 ,  9.809954 , 10.914517 , 11.038051 ,\n",
       "        10.432558 ,  9.546873 ,  8.674945 ,  8.005119 ,  7.4133573,\n",
       "         6.869535 ,  6.451258 ,  5.927815 ,  5.351826 ,  4.7615004,\n",
       "         4.187137 ,  3.626863 ,  3.238765 ,  2.8181627,  2.3921857,\n",
       "         2.0754323,  1.8266553,  1.6110097,  1.4586495,  1.3973062,\n",
       "         1.4167641,  1.3898091,  1.289918 ,  1.1853195,  1.1380349,\n",
       "         1.1526897,  1.2170213,  1.2598795,  1.2655722,  1.260686 ,\n",
       "         1.217183 ,  1.2280802,  1.2209466,  1.1674302,  1.0757006,\n",
       "         1.1010468,  1.1244351,  1.1327964,  1.1333641,  1.1837004],\n",
       "       dtype=float32))"
      ]
     },
     "execution_count": 16,
     "metadata": {},
     "output_type": "execute_result"
    }
   ],
   "source": [
    "f[0].header,specdata"
   ]
  },
  {
   "cell_type": "code",
   "execution_count": 13,
   "id": "ca6f1414-dd64-4619-a152-4c32901d1599",
   "metadata": {},
   "outputs": [],
   "source": [
    "from specutils import Spectrum1D\n",
    "\n",
    "#Serie de balmer\n",
    "Ha = 6562.10\n",
    "Hb = 4861.32\n",
    "Hg = 4340.46\n",
    "Hd = 4101.73\n",
    "\n",
    "Mg = 5714\n",
    "\n",
    "# Doublet du sodium\n",
    "NaI = 5889.950\n",
    "NaII = 5895.924 \n",
    "\n",
    "SiIIa = 6347.1\n",
    "SiIIb = 6371.4\n",
    "error = 5235"
   ]
  },
  {
   "cell_type": "code",
   "execution_count": 14,
   "id": "b2d45b01-d59d-4612-ac71-6504abfcdc36",
   "metadata": {},
   "outputs": [
    {
     "name": "stderr",
     "output_type": "stream",
     "text": [
      "WARNING: FITSFixedWarning: 'datfix' made the change 'Set MJD-OBS to 59527.845833 from DATE-OBS'. [astropy.wcs.wcs]\n",
      "WARNING: FITSFixedWarning: 'datfix' made the change 'Set MJD-OBS to 59529.815278 from DATE-OBS'. [astropy.wcs.wcs]\n"
     ]
    }
   ],
   "source": [
    "spec1d1 = Spectrum1D.read('dbspectre/Pn_v1405cas-20211029.fits')\n",
    "spec1d2 = Spectrum1D.read('dbspectre/Pn_v1405cas-20211109.fits')\n",
    "spec1d3 = Spectrum1D.read('dbspectre/Pn_v1405cas-20211111.fits')\n"
   ]
  },
  {
   "cell_type": "code",
   "execution_count": 15,
   "id": "108b3358-a430-45b5-b477-bd1647716519",
   "metadata": {},
   "outputs": [
    {
     "ename": "AttributeError",
     "evalue": "'Spectrum1D' object has no attribute 'plot'",
     "output_type": "error",
     "traceback": [
      "\u001b[0;31m---------------------------------------------------------------------------\u001b[0m",
      "\u001b[0;31mAttributeError\u001b[0m                            Traceback (most recent call last)",
      "\u001b[0;32m/tmp/ipykernel_6699/2615892218.py\u001b[0m in \u001b[0;36m<module>\u001b[0;34m\u001b[0m\n\u001b[0;32m----> 1\u001b[0;31m \u001b[0mspec1d1\u001b[0m\u001b[0;34m.\u001b[0m\u001b[0mplot\u001b[0m\u001b[0;34m(\u001b[0m\u001b[0;34m)\u001b[0m\u001b[0;34m\u001b[0m\u001b[0;34m\u001b[0m\u001b[0m\n\u001b[0m",
      "\u001b[0;31mAttributeError\u001b[0m: 'Spectrum1D' object has no attribute 'plot'"
     ]
    }
   ],
   "source": [
    "spec1d1.plot()"
   ]
  },
  {
   "cell_type": "code",
   "execution_count": 22,
   "id": "3ff734cd-d2b6-4acb-92e3-4083c18de618",
   "metadata": {},
   "outputs": [
    {
     "data": {
      "image/png": "[encoded data removed]",
      "text/plain": [
       "<Figure size 432x288 with 1 Axes>"
      ]
     },
     "metadata": {
      "needs_background": "light"
     },
     "output_type": "display_data"
    },
    {
     "data": {
      "image/png": "[encoded data removed]",
      "text/plain": [
       "<Figure size 432x288 with 1 Axes>"
      ]
     },
     "metadata": {
      "needs_background": "light"
     },
     "output_type": "display_data"
    },
    {
     "data": {
      "image/png": "[encoded data removed]",
      "text/plain": [
       "<Figure size 432x288 with 1 Axes>"
      ]
     },
     "metadata": {
      "needs_background": "light"
     },
     "output_type": "display_data"
    }
   ],
   "source": [
    "f, ax = plt.subplots()  \n",
    "ax.step(spec1d1.spectral_axis, spec1d1.flux) \n",
    "plt.vlines(Ha, 0,max(spec1d1.flux), linestyles = 'dotted', colors = 'black', alpha = 0.5)\n",
    "plt.vlines(Hb, 0,max(spec1d1.flux), linestyles = 'dotted', colors = 'black', alpha = 0.5)\n",
    "plt.vlines(Hg, 0,max(spec1d1.flux), linestyles = 'dotted', colors = 'black', alpha = 0.5)\n",
    "plt.vlines(error, 0,1, linestyles = 'solid', colors = 'red', alpha = 0.3)\n",
    "plt.vlines(Mg, 0,max(spec1d1.flux), linestyles = 'dotted', colors = 'black', alpha = 0.5)\n",
    "plt.vlines(NaI, 0,max(spec1d1.flux), linestyles = 'dotted', colors = 'black', alpha = 0.5)\n",
    "plt.vlines(NaII, 0,max(spec1d1.flux), linestyles = 'dotted', colors = 'black', alpha = 0.5)\n",
    "plt.vlines(SiIIa, 0,max(spec1d1.flux), linestyles = 'dotted', colors = 'black', alpha = 0.5)\n",
    "plt.vlines(SiIIb, 0,max(spec1d1.flux), linestyles = 'dotted', colors = 'black', alpha = 0.5)\n",
    "plt.show()\n",
    "\n",
    "f, ax = plt.subplots()  \n",
    "ax.step(spec1d2.spectral_axis, spec1d2.flux) \n",
    "plt.vlines(Ha, 0,max(spec1d2.flux), linestyles = 'dotted', colors = 'black', alpha = 0.5)\n",
    "plt.vlines(Hb, 0,max(spec1d2.flux), linestyles = 'dotted', colors = 'black', alpha = 0.5)\n",
    "plt.vlines(Hg, 0,max(spec1d2.flux), linestyles = 'dotted', colors = 'black', alpha = 0.5)\n",
    "plt.vlines(error, 0,1, linestyles = 'solid', colors = 'red', alpha = 0.3)\n",
    "plt.vlines(Mg, 0,max(spec1d2.flux), linestyles = 'dotted', colors = 'black', alpha = 0.5)\n",
    "plt.vlines(NaI, 0,max(spec1d2.flux), linestyles = 'dotted', colors = 'black', alpha = 0.5)\n",
    "plt.vlines(NaII, 0,max(spec1d2.flux), linestyles = 'dotted', colors = 'black', alpha = 0.5)\n",
    "plt.vlines(SiIIa, 0,max(spec1d2.flux), linestyles = 'dotted', colors = 'black', alpha = 0.5)\n",
    "plt.vlines(SiIIb, 0,max(spec1d2.flux), linestyles = 'dotted', colors = 'black', alpha = 0.5)\n",
    "plt.show()\n",
    "\n",
    "f, ax = plt.subplots()  \n",
    "ax.step(spec1d3.spectral_axis, spec1d3.flux) \n",
    "plt.vlines(Ha, 0,max(spec1d3.flux), linestyles = 'dotted', colors = 'red', alpha = 0.5)\n",
    "plt.vlines(Hb, 0,max(spec1d3.flux), linestyles = 'dotted', colors = 'blue', alpha = 0.5)\n",
    "plt.vlines(Hg, 0,max(spec1d3.flux), linestyles = 'dotted', colors = 'blue', alpha = 0.5)\n",
    "plt.vlines(error, 0,1, linestyles = 'solid', colors = 'red', alpha = 0.3)\n",
    "plt.vlines(Mg, 0,max(spec1d3.flux), linestyles = 'dotted', colors = 'green', alpha = 0.5)\n",
    "plt.vlines(NaI, 0,max(spec1d3.flux), linestyles = 'dotted', colors = 'orange', alpha = 1)\n",
    "plt.vlines(NaII, 0,max(spec1d3.flux), linestyles = 'dotted', colors = 'orange', alpha = 1)\n",
    "plt.vlines(SiIIa, 0,max(spec1d3.flux), linestyles = 'dotted', colors = 'red', alpha = 0.5)\n",
    "plt.vlines(SiIIb, 0,max(spec1d3.flux), linestyles = 'dotted', colors = 'red', alpha = 0.5)\n",
    "#plt.xlabel('Spectral Axis ({})'.format(spec1d3.spectral_axis.unit)) \n",
    "plt.ylabel('Flux'.format(spec1d3.flux.unit)) \n",
    "plt.show()"
   ]
  },
  {
   "cell_type": "code",
   "execution_count": 19,
   "id": "41b2daf8-fafd-49c4-8f32-d5982bc4878e",
   "metadata": {},
   "outputs": [
    {
     "name": "stderr",
     "output_type": "stream",
     "text": [
      "WARNING: FITSFixedWarning: 'datfix' made the change 'Invalid DATE-OBS format '        ''. [astropy.wcs.wcs]\n",
      "WARNING: Model is linear in parameters; consider using linear fitting methods. [astropy.modeling.fitting]\n"
     ]
    },
    {
     "data": {
      "image/png": "[encoded data removed]",
      "text/plain": [
       "<Figure size 432x288 with 1 Axes>"
      ]
     },
     "metadata": {
      "needs_background": "light"
     },
     "output_type": "display_data"
    },
    {
     "data": {
      "image/png": "[encoded data removed]",
      "text/plain": [
       "<Figure size 432x288 with 1 Axes>"
      ]
     },
     "metadata": {
      "needs_background": "light"
     },
     "output_type": "display_data"
    }
   ],
   "source": [
    "spec1d4 = Spectrum1D.read('dbspectre/Pe-v1405cas-20211111.fits')\n",
    "from specutils.fitting import fit_generic_continuum\n",
    "cont_norm_spec = spec1d4 / fit_generic_continuum(spec1d4)(spec1d4.spectral_axis) \n",
    "f, ax = plt.subplots()  \n",
    "ax.step(cont_norm_spec.wavelength, cont_norm_spec.flux)  \n",
    "#ax.set_xlim(654 * u.nm, 660 * u.nm)  \n",
    "f, ax = plt.subplots()  \n",
    "ax.step(spec1d4.spectral_axis, spec1d4.flux) \n",
    "plt.show()"
   ]
  },
  {
   "cell_type": "code",
   "execution_count": 20,
   "id": "0c9234c5-fe20-485f-9052-bf115be961f4",
   "metadata": {},
   "outputs": [],
   "source": [
    "from specutils.fitting import fit_generic_continuum\n"
   ]
  },
  {
   "cell_type": "code",
   "execution_count": 21,
   "id": "18bd64f8-001f-4288-a33e-93e7ac5e3819",
   "metadata": {},
   "outputs": [
    {
     "name": "stderr",
     "output_type": "stream",
     "text": [
      "WARNING: Model is linear in parameters; consider using linear fitting methods. [astropy.modeling.fitting]\n"
     ]
    }
   ],
   "source": [
    "g1_fit = fit_generic_continuum(spec1d4)"
   ]
  },
  {
   "cell_type": "code",
   "execution_count": 25,
   "id": "9ccc7dd8-c54f-4604-95c4-1c2a63f93233",
   "metadata": {},
   "outputs": [],
   "source": [
    "np.random.seed(0)\n",
    "x = np.linspace(0., 10., 200)\n",
    "y = 3 * np.exp(-0.5 * (x - 6.3)**2 / 0.1**2)\n",
    "y += np.random.normal(0., 0.2, x.shape)\n",
    "y_continuum = 3.2 * np.exp(-0.5 * (x - 5.6)**2 / 4.8**2)\n",
    "y += y_continuum"
   ]
  },
  {
   "cell_type": "code",
   "execution_count": null,
   "id": "f2e302ee-38a6-466a-86d0-55336e5b9adb",
   "metadata": {},
   "outputs": [],
   "source": [
    "spectrum = Spectrum1D(flux=y*u.Jy, spectral_axis=x*u.um)"
   ]
  },
  {
   "cell_type": "code",
   "execution_count": 26,
   "id": "b3abba43-80c9-499c-b55a-2e0a240a8606",
   "metadata": {},
   "outputs": [],
   "source": [
    "y_continuum_fitted = g1_fit(x*u.um)"
   ]
  },
  {
   "cell_type": "code",
   "execution_count": 27,
   "id": "6e3da351-e7ce-42dd-840b-c49bcb7f8a72",
   "metadata": {},
   "outputs": [
    {
     "data": {
      "image/png": "[encoded data removed]",
      "text/plain": [
       "<Figure size 432x288 with 1 Axes>"
      ]
     },
     "metadata": {
      "needs_background": "light"
     },
     "output_type": "display_data"
    }
   ],
   "source": [
    "f, ax = plt.subplots()  \n",
    "ax.plot(x, y)  \n",
    "ax.plot(x, y_continuum_fitted)  \n",
    "ax.set_title(\"Continuum Fitting\")  \n",
    "ax.grid(True)  "
   ]
  },
  {
   "cell_type": "code",
   "execution_count": 1,
   "id": "eb6d72e4-1e0d-443a-a8f9-4558267f2ea5",
   "metadata": {},
   "outputs": [],
   "source": [
    "from matplotlib import pyplot as plt\n",
    "from ciboulette.spectrum import sa200"
   ]
  },
  {
   "cell_type": "code",
   "execution_count": 2,
   "id": "2f6b7a55-ff0d-4536-ad5c-82d1668405d8",
   "metadata": {},
   "outputs": [
    {
     "name": "stderr",
     "output_type": "stream",
     "text": [
      "WARNING: FITSFixedWarning: 'datfix' made the change 'Set MJD-OBS to 59516.815972 from DATE-OBS'. [astropy.wcs.wcs]\n",
      "WARNING: FITSFixedWarning: 'datfix' made the change 'Set MJD-OBS to 59502.731169 from DATE-OBS'. [astropy.wcs.wcs]\n"
     ]
    }
   ],
   "source": [
    "s = sa200.SA200('dbspectre/Pn_v1405cas-20211029.fits')\n",
    "s2 = sa200.SA200('dbspectre/000-BNX-642_TALD_2459503.23186342.fits')"
   ]
  },
  {
   "cell_type": "code",
   "execution_count": 3,
   "id": "1c72e154-df36-4f94-af88-f8508919f31b",
   "metadata": {},
   "outputs": [
    {
     "data": {
      "text/plain": [
       "200"
      ]
     },
     "execution_count": 3,
     "metadata": {},
     "output_type": "execute_result"
    }
   ],
   "source": [
    "s.R"
   ]
  },
  {
   "cell_type": "code",
   "execution_count": 4,
   "id": "1a5e22b5-c793-4de6-9ba2-fb3bedd5b3d1",
   "metadata": {},
   "outputs": [
    {
     "data": {
      "text/plain": [
       "'dtouzan@gmail.com'"
      ]
     },
     "execution_count": 4,
     "metadata": {},
     "output_type": "execute_result"
    }
   ],
   "source": [
    "s.observer"
   ]
  },
  {
   "cell_type": "code",
   "execution_count": 5,
   "id": "3f8ac962-fc58-47b8-b6df-c669e97fc1f3",
   "metadata": {},
   "outputs": [
    {
     "data": {
      "text/plain": [
       "'B2IV'"
      ]
     },
     "execution_count": 5,
     "metadata": {},
     "output_type": "execute_result"
    }
   ],
   "source": [
    "s.calibration_reference"
   ]
  },
  {
   "cell_type": "code",
   "execution_count": 6,
   "id": "923d3cc1-cc47-4b9c-b595-cc04282de78c",
   "metadata": {},
   "outputs": [
    {
     "data": {
      "text/plain": [
       "'O85mmF8 SA200 ASI178MM'"
      ]
     },
     "execution_count": 6,
     "metadata": {},
     "output_type": "execute_result"
    }
   ],
   "source": [
    "s.instrument"
   ]
  },
  {
   "cell_type": "code",
   "execution_count": 7,
   "id": "5f000742-2ea4-4180-aa57-0ee6c066d171",
   "metadata": {},
   "outputs": [
    {
     "data": {
      "text/plain": [
       "'UT1'"
      ]
     },
     "execution_count": 7,
     "metadata": {},
     "output_type": "execute_result"
    }
   ],
   "source": [
    "s.site"
   ]
  },
  {
   "cell_type": "code",
   "execution_count": 8,
   "id": "a2b43836-4ae6-4256-b0bc-af8b8c0b955c",
   "metadata": {},
   "outputs": [
    {
     "data": {
      "text/plain": [
       "'2021-10-29T19:35:00'"
      ]
     },
     "execution_count": 8,
     "metadata": {},
     "output_type": "execute_result"
    }
   ],
   "source": [
    "s.date"
   ]
  },
  {
   "cell_type": "code",
   "execution_count": 9,
   "id": "232e1adb-6be7-4161-bd1d-43853c298ef6",
   "metadata": {},
   "outputs": [
    {
     "data": {
      "text/plain": [
       "'ISIS V6.1.1'"
      ]
     },
     "execution_count": 9,
     "metadata": {},
     "output_type": "execute_result"
    }
   ],
   "source": [
    "s.version"
   ]
  },
  {
   "cell_type": "code",
   "execution_count": 10,
   "id": "c879bc3e-894c-40b6-b838-f8cbca4ca70b",
   "metadata": {},
   "outputs": [
    {
     "data": {
      "text/plain": [
       "2459517.315972222"
      ]
     },
     "execution_count": 10,
     "metadata": {},
     "output_type": "execute_result"
    }
   ],
   "source": [
    "s.JD"
   ]
  },
  {
   "cell_type": "code",
   "execution_count": 14,
   "id": "135df8cf-8e1f-483c-8439-9ee9c18eb23c",
   "metadata": {},
   "outputs": [
    {
     "data": {
      "image/png": "[encoded data removed]",
      "text/plain": [
       "<Figure size 432x288 with 1 Axes>"
      ]
     },
     "metadata": {
      "needs_background": "light"
     },
     "output_type": "display_data"
    }
   ],
   "source": [
    "f, ax = plt.subplots()  \n",
    "ax.step(s.s1d.spectral_axis, s.s1d.flux)\n",
    "ax.set_title(s.title)  \n",
    "plt.xlabel('Spectral Axis ({})'.format(s.s1d.spectral_axis.unit)) \n",
    "plt.ylabel('Flux ({})'.format(s.s1d.flux.unit))\n",
    "plt.show()"
   ]
  },
  {
   "cell_type": "code",
   "execution_count": 28,
   "id": "7ec72cbd-8044-49e3-b06c-843eb353c64e",
   "metadata": {},
   "outputs": [
    {
     "data": {
      "text/plain": [
       "SIMPLE  =                    T / file does conform to FITS standard             \n",
       "BITPIX  =                  -32 / number of bits per data pixel                  \n",
       "NAXIS   =                    1 / number of data axes                            \n",
       "NAXIS1  =                  798 / length of data axis 1                          \n",
       "CRPIX1  =                      1 / Reference pixel                              \n",
       "CDELT1  =       5.26200026221377 / Coordinate increment                         \n",
       "CRVAL1  =       3804.42602539063 / Coordinate at reference pixel                \n",
       "CTYPE1  = 'Wavelength'           / Axis Type                                    \n",
       "CUNIT1  = 'Angstrom'             / Wavelength unit                              \n",
       "SWCREATE= 'RSpec 2.0.0.13'                                                      \n",
       "VERSION = 'RSpec 2.0.0.13'                                                      \n",
       "OBSERVER= 'TALD'                                                                \n",
       "BSS_SITE= 'ROMA_CASA'            / Observation Site                             \n",
       "BSS_INST= 'APO 80 f/6'           / Instrument                                   \n",
       "OBJNAME = 'v1405 cas'            / Current name of Object                       \n",
       "DATE-OBS= '2021-10-15T17:32:53'  / Date of observation start                    \n",
       "EXPTIME =                    120 / [s] Total time of exposure                   \n",
       "BSS_VHEL=                      0 / [km/s] Applied heliocentric correction       "
      ]
     },
     "execution_count": 28,
     "metadata": {},
     "output_type": "execute_result"
    }
   ],
   "source": [
    "s2.header"
   ]
  },
  {
   "cell_type": "code",
   "execution_count": null,
   "id": "6692f999-1a91-49da-9b25-7b612ae7f9c7",
   "metadata": {},
   "outputs": [],
   "source": []
  },
  {
   "cell_type": "code",
   "execution_count": null,
   "id": "dc128cc4-808b-41cb-aa2f-1d5a8559bfd6",
   "metadata": {},
   "outputs": [],
   "source": []
  }
 ],
 "metadata": {
  "kernelspec": {
   "display_name": "Python 3 (ipykernel)",
   "language": "python",
   "name": "python3"
  },
  "language_info": {
   "codemirror_mode": {
    "name": "ipython",
    "version": 3
   },
   "file_extension": ".py",
   "mimetype": "text/x-python",
   "name": "python",
   "nbconvert_exporter": "python",
   "pygments_lexer": "ipython3",
   "version": "3.9.5"
  }
 },
 "nbformat": 4,
 "nbformat_minor": 5
}
