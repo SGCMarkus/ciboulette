{
 "cells": [
  {
   "cell_type": "markdown",
   "id": "ecda7b06",
   "metadata": {},
   "source": [
    "## Exemple planning"
   ]
  },
  {
   "cell_type": "code",
   "execution_count": 1,
   "id": "cb1d5c60",
   "metadata": {},
   "outputs": [],
   "source": [
    "from ciboulette.base import ciboulette\n",
    "from ciboulette.utils import planning"
   ]
  },
  {
   "cell_type": "markdown",
   "id": "18147ef8",
   "metadata": {},
   "source": [
    "- Create and initialize planning class"
   ]
  },
  {
   "cell_type": "code",
   "execution_count": 15,
   "id": "4813ce09",
   "metadata": {},
   "outputs": [],
   "source": [
    "pg = planning.Planning(idgoogledrive='1Yc-QxFr9veMeGjqvedRMrcEDL2GRyTS_')"
   ]
  },
  {
   "cell_type": "markdown",
   "id": "a3d4f232",
   "metadata": {},
   "source": [
    "- Edit planning class"
   ]
  },
  {
   "cell_type": "code",
   "execution_count": 16,
   "id": "d94a4063",
   "metadata": {},
   "outputs": [
    {
     "data": {
      "text/html": [
       "<i>Table length=4</i>\n",
       "<table id=\"table1527917037504\" class=\"table-striped table-bordered table-condensed\">\n",
       "<thead><tr><th>target_name</th><th>s_ra</th><th>s_dec</th><th>t_exptime</th><th>obs_id</th><th>binning</th><th>filters</th><th>dataproduct_type</th><th>obs_title</th><th>obs_collection</th><th>instrument_name</th><th>proposal_pi</th><th>moon</th></tr></thead>\n",
       "<thead><tr><th>str7</th><th>float64</th><th>float64</th><th>int32</th><th>int32</th><th>int32</th><th>str5</th><th>str9</th><th>str19</th><th>str7</th><th>str12</th><th>str17</th><th>int32</th></tr></thead>\n",
       "<tr><td>SECTOR1</td><td>5.3</td><td>73.9</td><td>60</td><td>1</td><td>1</td><td>CLS</td><td>intensity</td><td>none</td><td>science</td><td>ciboulette-A</td><td>dtouzan@gmail.com</td><td>75</td></tr>\n",
       "<tr><td>SECTOR1</td><td>5.3</td><td>70.9</td><td>30</td><td>2</td><td>1</td><td>OIII</td><td>intensity</td><td>none</td><td>UT1</td><td>ciboulette-A</td><td>dtouzan@gmail.com</td><td>75</td></tr>\n",
       "<tr><td>SECTOR1</td><td>5.3</td><td>67.9</td><td>60</td><td>3</td><td>1</td><td>L</td><td>black</td><td>test black sequence</td><td>UT2</td><td>ciboulette-B</td><td>dtouzan@gmail.com</td><td>25</td></tr>\n",
       "<tr><td>SECTOR1</td><td>5.3</td><td>64.9</td><td>300</td><td>20210001</td><td>1</td><td>SA200</td><td>intensity</td><td>none</td><td>UT1</td><td>ciboulette-A</td><td>dtouzan@gmail.com</td><td>50</td></tr>\n",
       "</table>"
      ],
      "text/plain": [
       "<Table length=4>\n",
       "target_name   s_ra   s_dec  ... instrument_name    proposal_pi     moon\n",
       "    str7    float64 float64 ...      str12            str17       int32\n",
       "----------- ------- ------- ... --------------- ----------------- -----\n",
       "    SECTOR1     5.3    73.9 ...    ciboulette-A dtouzan@gmail.com    75\n",
       "    SECTOR1     5.3    70.9 ...    ciboulette-A dtouzan@gmail.com    75\n",
       "    SECTOR1     5.3    67.9 ...    ciboulette-B dtouzan@gmail.com    25\n",
       "    SECTOR1     5.3    64.9 ...    ciboulette-A dtouzan@gmail.com    50"
      ]
     },
     "execution_count": 16,
     "metadata": {},
     "output_type": "execute_result"
    }
   ],
   "source": [
    "pg.observations"
   ]
  },
  {
   "cell_type": "code",
   "execution_count": 4,
   "id": "b4a8dcc2",
   "metadata": {},
   "outputs": [
    {
     "name": "stdout",
     "output_type": "stream",
     "text": [
      "SECTOR1 5.3 73.9 60.0 1 CLS 1 intensity none science ciboulette-A dtouzan@gmail.com 75\n",
      "SECTOR1 5.3 70.9 30.0 1 OIII 2 intensity none UT1 ciboulette-A dtouzan@gmail.com 75\n",
      "SECTOR1 5.3 67.9 60.0 1 L 3 black test black sequence UT2 ciboulette-B dtouzan@gmail.com 25\n",
      "SECTOR1 5.3 64.9 300.0 1 SA200 20210001 intensity none UT1 ciboulette-A dtouzan@gmail.com 50\n"
     ]
    }
   ],
   "source": [
    "for pl in pg.observations:\n",
    "    print(pg.target(pl),pg.ra(pl),pg.dec(pl),pg.exptime(pl),pg.binning(pl),pg.filtername(pl),pg.observationID(pl),pg.dataproducttype(pl),pg.observationtitle(pl),pg.observationcollection(pl),pg.instrumentname(pl),pg.proposalpi(pl),pg.moon(pl))\n",
    "    \n",
    "    "
   ]
  },
  {
   "cell_type": "code",
   "execution_count": 5,
   "id": "17f25476",
   "metadata": {},
   "outputs": [
    {
     "name": "stdout",
     "output_type": "stream",
     "text": [
      "(60.0, 1, 'intensity')\n",
      "(30.0, 2, 'intensity')\n",
      "(60.0, 3, 'black')\n",
      "(300.0, 20210001, 'intensity')\n"
     ]
    }
   ],
   "source": [
    "for pl in pg.observations:\n",
    "    print(pg.exposure(pl))"
   ]
  },
  {
   "cell_type": "code",
   "execution_count": 6,
   "id": "e4b322f8",
   "metadata": {},
   "outputs": [
    {
     "name": "stdout",
     "output_type": "stream",
     "text": [
      "5.3 73.9\n",
      "5.3 70.9\n",
      "5.3 67.9\n",
      "5.3 64.9\n"
     ]
    }
   ],
   "source": [
    "for pl in pg.observations:\n",
    "    ra, dec = pg.coordinates(pl)\n",
    "    print(ra,dec)"
   ]
  },
  {
   "cell_type": "markdown",
   "id": "1191e812",
   "metadata": {},
   "source": [
    "- Edit attributes of planning class"
   ]
  },
  {
   "cell_type": "code",
   "execution_count": 7,
   "id": "54430b94",
   "metadata": {},
   "outputs": [
    {
     "data": {
      "text/plain": [
       "0.392778"
      ]
     },
     "execution_count": 7,
     "metadata": {},
     "output_type": "execute_result"
    }
   ],
   "source": [
    "pg.duration"
   ]
  },
  {
   "cell_type": "code",
   "execution_count": 8,
   "id": "18f67091",
   "metadata": {},
   "outputs": [
    {
     "data": {
      "text/plain": [
       "4"
      ]
     },
     "execution_count": 8,
     "metadata": {},
     "output_type": "execute_result"
    }
   ],
   "source": [
    "pg.number"
   ]
  },
  {
   "cell_type": "code",
   "execution_count": 9,
   "id": "fdaaafa2",
   "metadata": {},
   "outputs": [
    {
     "data": {
      "text/plain": [
       "'Planning'"
      ]
     },
     "execution_count": 9,
     "metadata": {},
     "output_type": "execute_result"
    }
   ],
   "source": [
    "pg.title"
   ]
  },
  {
   "cell_type": "markdown",
   "id": "74760b44",
   "metadata": {},
   "source": [
    "- Edit or update header planning class"
   ]
  },
  {
   "cell_type": "code",
   "execution_count": 10,
   "id": "91be657d",
   "metadata": {},
   "outputs": [
    {
     "name": "stdout",
     "output_type": "stream",
     "text": [
      " Title   Number Init Slew Filter Guider Focus   Exposures   Duration\n",
      "-------- ------ ---- ---- ------ ------ ----- ------------- --------\n",
      "Planning      4  900    5      3      3     0  60 30 60 300 0.392778\n"
     ]
    }
   ],
   "source": [
    "pg.header.pprint(max_width = 255)"
   ]
  },
  {
   "cell_type": "code",
   "execution_count": 11,
   "id": "237672fc",
   "metadata": {},
   "outputs": [
    {
     "name": "stdout",
     "output_type": "stream",
     "text": [
      "  Title    Number Init Slew Filter Guider Focus   Exposures   Duration\n",
      "---------- ------ ---- ---- ------ ------ ----- ------------- --------\n",
      "SECTOR 1-4      4  900   10      3      3     0  60 30 60 300 0.398333\n"
     ]
    }
   ],
   "source": [
    "pg.timerslew = 10\n",
    "pg.title = 'SECTOR 1-4'\n",
    "pg.header.pprint(max_width = 255)"
   ]
  },
  {
   "cell_type": "markdown",
   "id": "2f3316f6",
   "metadata": {},
   "source": [
    "- Find collection or instrument in planning class"
   ]
  },
  {
   "cell_type": "code",
   "execution_count": 12,
   "id": "58149196",
   "metadata": {},
   "outputs": [
    {
     "name": "stdout",
     "output_type": "stream",
     "text": [
      "target_name s_ra s_dec t_exptime obs_id binning filters dataproduct_type obs_title obs_collection instrument_name    proposal_pi    moon\n",
      "----------- ---- ----- --------- ------ ------- ------- ---------------- --------- -------------- --------------- ----------------- ----\n",
      "    SECTOR1  5.3  73.9        60      1       1     CLS        intensity      none        science    ciboulette-A dtouzan@gmail.com   75\n"
     ]
    }
   ],
   "source": [
    "pg.collection('science').pprint(max_width = 255)"
   ]
  },
  {
   "cell_type": "code",
   "execution_count": 14,
   "id": "4e499266",
   "metadata": {},
   "outputs": [
    {
     "name": "stdout",
     "output_type": "stream",
     "text": [
      "target_name s_ra s_dec t_exptime  obs_id  binning filters dataproduct_type obs_title obs_collection instrument_name    proposal_pi    moon\n",
      "----------- ---- ----- --------- -------- ------- ------- ---------------- --------- -------------- --------------- ----------------- ----\n",
      "    SECTOR1  5.3  73.9        60        1       1     CLS        intensity      none        science    ciboulette-A dtouzan@gmail.com   75\n",
      "    SECTOR1  5.3  70.9        30        2       1    OIII        intensity      none            UT1    ciboulette-A dtouzan@gmail.com   75\n",
      "    SECTOR1  5.3  64.9       300 20210001       1   SA200        intensity      none            UT1    ciboulette-A dtouzan@gmail.com   50\n"
     ]
    }
   ],
   "source": [
    "pg.instrument('ciboulette-A').pprint(max_width = 255)"
   ]
  },
  {
   "cell_type": "code",
   "execution_count": 17,
   "id": "560124a9",
   "metadata": {},
   "outputs": [
    {
     "name": "stdout",
     "output_type": "stream",
     "text": [
      "target_name s_ra s_dec t_exptime obs_id binning filters dataproduct_type      obs_title      obs_collection instrument_name    proposal_pi    moon\n",
      "----------- ---- ----- --------- ------ ------- ------- ---------------- ------------------- -------------- --------------- ----------------- ----\n",
      "    SECTOR1  5.3  67.9        60      3       1       L            black test black sequence            UT2    ciboulette-B dtouzan@gmail.com   25\n"
     ]
    }
   ],
   "source": [
    "pg.instrument('ciboulette-B').pprint(max_width = 255)"
   ]
  },
  {
   "cell_type": "code",
   "execution_count": null,
   "id": "a0ec2fe8",
   "metadata": {},
   "outputs": [],
   "source": []
  }
 ],
 "metadata": {
  "kernelspec": {
   "display_name": "Python 3",
   "language": "python",
   "name": "python3"
  },
  "language_info": {
   "codemirror_mode": {
    "name": "ipython",
    "version": 3
   },
   "file_extension": ".py",
   "mimetype": "text/x-python",
   "name": "python",
   "nbconvert_exporter": "python",
   "pygments_lexer": "ipython3",
   "version": "3.8.5"
  }
 },
 "nbformat": 4,
 "nbformat_minor": 5
}
