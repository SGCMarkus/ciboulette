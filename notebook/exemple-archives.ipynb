{
 "cells": [
  {
   "cell_type": "markdown",
   "id": "54b54366-b789-4b5b-a818-a36ef61df4da",
   "metadata": {},
   "source": [
    "## Exemple Archive class\n",
    "\n",
    "- Import achive class"
   ]
  },
  {
   "cell_type": "code",
   "execution_count": 1,
   "id": "56877947-a798-4eb4-b583-2b7ff3a28085",
   "metadata": {},
   "outputs": [],
   "source": [
    "from ciboulette.utils.archive import Archive"
   ]
  },
  {
   "cell_type": "markdown",
   "id": "0b65e25f-b6d3-4cf3-9748-a99d2529dc54",
   "metadata": {},
   "source": [
    "- Create archive class wthis the directory \"dataset/archives\""
   ]
  },
  {
   "cell_type": "code",
   "execution_count": 2,
   "id": "9ef3d302-f00e-4e5b-a2c8-e0fb01b8d65c",
   "metadata": {},
   "outputs": [],
   "source": [
    "a = Archive(archive_table = 'dataset/archives')"
   ]
  },
  {
   "cell_type": "markdown",
   "id": "7cb4ada5-6e26-4316-9ccb-df8d52b9a5f1",
   "metadata": {},
   "source": [
    "- Read the database (fits files) in \"dataset/archives\" \n",
    "- Extract the fits fields or parse the name of the file"
   ]
  },
  {
   "cell_type": "code",
   "execution_count": 7,
   "id": "6d3d1a83-37af-46e2-8d0c-b1e8de803fb3",
   "metadata": {},
   "outputs": [],
   "source": [
    "a.read"
   ]
  },
  {
   "cell_type": "markdown",
   "id": "4e117fb2-2b52-4d45-b147-3ac458574d64",
   "metadata": {},
   "source": [
    "- Trace the date of the archive database files (JD)"
   ]
  },
  {
   "cell_type": "code",
   "execution_count": 11,
   "id": "24666d6a-30e5-42ce-a317-5c52d5cd0727",
   "metadata": {},
   "outputs": [
    {
     "data": {
      "image/png": "[encoded data removed]",
      "text/plain": [
       "<Figure size 1800x72 with 1 Axes>"
      ]
     },
     "metadata": {
      "needs_background": "light"
     },
     "output_type": "display_data"
    },
    {
     "data": {
      "image/png": "[encoded data removed]",
      "text/plain": [
       "<Figure size 1800x72 with 1 Axes>"
      ]
     },
     "metadata": {
      "needs_background": "light"
     },
     "output_type": "display_data"
    }
   ],
   "source": [
    "import matplotlib.pyplot as plt\n",
    "a.go = 2016\n",
    "a.end = 2022\n",
    "plt.figure(figsize=(25,1))\n",
    "a.plot()\n",
    "plt.figure(figsize=(25,1))\n",
    "a.go = 2021\n",
    "a.end = 2022\n",
    "a.plot()"
   ]
  },
  {
   "cell_type": "markdown",
   "id": "ab026118-c9fc-4d14-b88e-44346518d418",
   "metadata": {},
   "source": [
    "- Display data in table format with some filters"
   ]
  },
  {
   "cell_type": "code",
   "execution_count": 7,
   "id": "d7731c24-bf95-44a8-ad86-b625b4cbe8ae",
   "metadata": {},
   "outputs": [
    {
     "data": {
      "text/html": [
       "<i>Table length=503</i>\n",
       "<table id=\"table140653708385728\" class=\"table-striped table-bordered table-condensed\">\n",
       "<thead><tr><th>ID</th><th>JD</th><th>EXPTIME</th><th>FILE</th><th>RA</th><th>DEC</th></tr></thead>\n",
       "<thead><tr><th>str27</th><th>float64</th><th>float64</th><th>str54</th><th>str32</th><th>str32</th></tr></thead>\n",
       "<tr><td>m29</td><td>2458724.3625</td><td>10.0</td><td>m29-20190828-2042-g-10s-f1000</td><td>Nan</td><td>Nan</td></tr>\n",
       "<tr><td>ngc5394</td><td>2458965.4071</td><td>3240.0</td><td>ngc5394-20200425-2044-18x180s-f1000</td><td>&apos;&apos;&apos;&apos;209.8171983&apos;</td><td>&apos;&apos;&apos;&apos;37.90314561&apos;</td></tr>\n",
       "<tr><td>ngc2371</td><td>2458847.512886</td><td>6120.0</td><td>ngc2371-20191229-2331-34x180s-f1000</td><td>&apos;&apos;&apos;111.3221554&apos;&apos;</td><td>&apos;&apos;&apos;29.12142844&apos;&apos;</td></tr>\n",
       "<tr><td>v1405cas</td><td>2459326.3972222223</td><td>30.0</td><td>v1405cas-20210421-2132-30s-f135</td><td>Nan</td><td>Nan</td></tr>\n",
       "<tr><td>ngc4400</td><td>2458259.421432</td><td>2400.0</td><td>ngc4400-20180520-2144-20x120s-f500</td><td>Nan</td><td>Nan</td></tr>\n",
       "<tr><td>v1405cas</td><td>2459327.37275441</td><td>60.0</td><td>v1405cas-20210422-2048-60s-f85</td><td>&apos;&apos;350.0097837&apos;&apos;</td><td>&apos;&apos;60.12312599&apos;&apos;</td></tr>\n",
       "<tr><td>39</td><td>2457872.348314</td><td>900.0</td><td>39-20170428-2020-15x60s-f200</td><td>Nan</td><td>Nan</td></tr>\n",
       "<tr><td>m3</td><td>2459324.377083333</td><td>60.0</td><td>m3-20210419-2103-60s-f85</td><td>Nan</td><td>Nan</td></tr>\n",
       "<tr><td>ngc884</td><td>2459160.31714</td><td>540.0</td><td>ngc884-20201106-1936-3x180s-1-46</td><td>&apos;&apos;&apos;35.09203715&apos;&apos;</td><td>&apos;&apos;&apos;57.03258981&apos;&apos;</td></tr>\n",
       "<tr><td>ngc4618</td><td>2458940.379111</td><td>7740.0</td><td>ngc4618-20200331-2002-43x180s-f1000</td><td>&apos;&apos;&apos;&apos;190.6440636&apos;</td><td>&apos;&apos;&apos;&apos;41.65217416&apos;</td></tr>\n",
       "<tr><td>...</td><td>...</td><td>...</td><td>...</td><td>...</td><td>...</td></tr>\n",
       "<tr><td>v1405cas</td><td>2459362.4013888887</td><td>60.0</td><td>v1405cas-20210527-2138-60s-f85</td><td>Nan</td><td>Nan</td></tr>\n",
       "<tr><td>164</td><td>2458976.414471</td><td>3600.0</td><td>164-20200506-2127-60x60s-f1000-dp</td><td>&apos;&apos;&apos;178.234033&apos;&apos;</td><td>&apos;&apos;&apos;32.3575798&apos;&apos;</td></tr>\n",
       "<tr><td>133</td><td>2459279.4034722224</td><td>120.0</td><td>133-20210305-2141-120s-f300</td><td>Nan</td><td>Nan</td></tr>\n",
       "<tr><td>c2019y4_atlas</td><td>2458927.409536</td><td>900.0</td><td>c2019y4_atlas-20200318-2138-15x60s-f1000</td><td>&apos;&apos;&apos;&apos;142.5978154&apos;</td><td>&apos;&apos;&apos;&apos;67.60856506&apos;</td></tr>\n",
       "<tr><td>ncas2021</td><td>2459297.35625</td><td>120.0</td><td>ncas2021-20210323-2033-60s-f135</td><td>Nan</td><td>Nan</td></tr>\n",
       "<tr><td>c2020t2</td><td>2459363.437657</td><td>2100.0</td><td>c2020t2-20210528-2214-7x300s-f85</td><td>&apos;&apos;&apos;204.3995301&apos;&apos;</td><td>&apos;&apos;&apos;24.46906048&apos;&apos;</td></tr>\n",
       "<tr><td>3122</td><td>2457999.378104</td><td>2610.0</td><td>3122-20170902-2045-261x10s-f300</td><td>Nan</td><td>Nan</td></tr>\n",
       "<tr><td>776</td><td>2458944.411198</td><td>1560.0</td><td>776-20200404-2140-26x60s-f1000</td><td>&apos;&apos;&apos;&apos;134.2278595&apos;</td><td>&apos;&apos;&apos;&apos;81.07367878&apos;</td></tr>\n",
       "<tr><td>c2020t2</td><td>2459337.423611111</td><td>300.0</td><td>c2020t2-20210502-2210-300s-f85</td><td>Nan</td><td>Nan</td></tr>\n",
       "<tr><td>ngc6888</td><td>2459107.401499</td><td>600.0</td><td>ngc6888-20200914-2119-3600s-2-22</td><td>&apos;&apos;&apos;302.9341114&apos;&apos;</td><td>&apos;&apos;&apos;38.18714165&apos;&apos;</td></tr>\n",
       "</table>"
      ],
      "text/plain": [
       "<Table length=503>\n",
       "      ID              JD         EXPTIME ...        RA              DEC       \n",
       "    str27          float64       float64 ...      str32            str32      \n",
       "------------- ------------------ ------- ... ---------------- ----------------\n",
       "          m29       2458724.3625    10.0 ...              Nan              Nan\n",
       "      ngc5394       2458965.4071  3240.0 ... ''''209.8171983' ''''37.90314561'\n",
       "      ngc2371     2458847.512886  6120.0 ... '''111.3221554'' '''29.12142844''\n",
       "     v1405cas 2459326.3972222223    30.0 ...              Nan              Nan\n",
       "      ngc4400     2458259.421432  2400.0 ...              Nan              Nan\n",
       "     v1405cas   2459327.37275441    60.0 ...  ''350.0097837''  ''60.12312599''\n",
       "           39     2457872.348314   900.0 ...              Nan              Nan\n",
       "           m3  2459324.377083333    60.0 ...              Nan              Nan\n",
       "       ngc884      2459160.31714   540.0 ... '''35.09203715'' '''57.03258981''\n",
       "      ngc4618     2458940.379111  7740.0 ... ''''190.6440636' ''''41.65217416'\n",
       "          ...                ...     ... ...              ...              ...\n",
       "     v1405cas 2459362.4013888887    60.0 ...              Nan              Nan\n",
       "          164     2458976.414471  3600.0 ...  '''178.234033''  '''32.3575798''\n",
       "          133 2459279.4034722224   120.0 ...              Nan              Nan\n",
       "c2019y4_atlas     2458927.409536   900.0 ... ''''142.5978154' ''''67.60856506'\n",
       "     ncas2021      2459297.35625   120.0 ...              Nan              Nan\n",
       "      c2020t2     2459363.437657  2100.0 ... '''204.3995301'' '''24.46906048''\n",
       "         3122     2457999.378104  2610.0 ...              Nan              Nan\n",
       "          776     2458944.411198  1560.0 ... ''''134.2278595' ''''81.07367878'\n",
       "      c2020t2  2459337.423611111   300.0 ...              Nan              Nan\n",
       "      ngc6888     2459107.401499   600.0 ... '''302.9341114'' '''38.18714165''"
      ]
     },
     "execution_count": 7,
     "metadata": {},
     "output_type": "execute_result"
    }
   ],
   "source": [
    "a.observations()['ID','JD','EXPTIME','FILE','RA','DEC']"
   ]
  },
  {
   "cell_type": "markdown",
   "id": "1acfa795-2b7a-46e9-bae2-26f95028a2f6",
   "metadata": {},
   "source": [
    "- Find by \"ID\" name"
   ]
  },
  {
   "cell_type": "code",
   "execution_count": 9,
   "id": "a32fc423-594e-48f7-a3f4-b2a3db7b128b",
   "metadata": {},
   "outputs": [
    {
     "data": {
      "text/html": [
       "<i>Table length=15</i>\n",
       "<table id=\"table140653708386160\" class=\"table-striped table-bordered table-condensed\">\n",
       "<thead><tr><th>ID</th><th>OBSERVER</th><th>INSTRUME</th><th>TELESCOP</th><th>FRAMEID</th><th>FRAME</th><th>DATATYPE</th><th>FILTER</th><th>FOCALLEN</th><th>EXPTIME</th><th>DATE-OBS</th><th>JD</th><th>RA</th><th>DEC</th><th>FILE</th></tr></thead>\n",
       "<thead><tr><th>str27</th><th>str16</th><th>str26</th><th>str17</th><th>str3</th><th>str3</th><th>str3</th><th>str17</th><th>str32</th><th>float64</th><th>str26</th><th>float64</th><th>str32</th><th>str32</th><th>str54</th></tr></thead>\n",
       "<tr><td>c2020t2</td><td>CAM1</td><td>Atik Camera Driver-KAF8300</td><td>UT1</td><td>Nan</td><td>Nan</td><td>Nan</td><td>Filter 1</td><td>85</td><td>1500.0</td><td>2021-05-31T22:47:13.452</td><td>2459366.442154</td><td>&apos;&apos;&apos;204.0358017&apos;&apos;</td><td>&apos;&apos;&apos;23.30661905&apos;&apos;</td><td>c2020t2-20210531-2226-5x300s-f85</td></tr>\n",
       "<tr><td>c2020t2</td><td>CAM1</td><td>Atik Camera Driver-KAF8300</td><td>UT1</td><td>Nan</td><td>Nan</td><td>Nan</td><td>Filter 1</td><td>85</td><td>1500.0</td><td>2021-05-30T22:42:28.237</td><td>2459365.438852</td><td>&apos;&apos;&apos;204.1964555&apos;&apos;</td><td>&apos;&apos;&apos;24.94850744&apos;&apos;</td><td>c2020t2-20210530-2221-5x300s-f85</td></tr>\n",
       "<tr><td>c2020t2</td><td>CAM1</td><td>Atik Camera Driver-KAF8300</td><td>UT1</td><td>Nan</td><td>Nan</td><td>Nan</td><td>Filter 2</td><td>85</td><td>180.0</td><td>2021-05-22T22:09:00</td><td>2459357.4229166666</td><td>Nan</td><td>Nan</td><td>c2020t2-20210522-2209-180s-f85</td></tr>\n",
       "<tr><td>c2020t2</td><td>CAM1</td><td>Atik 383L</td><td>UT1</td><td>Nan</td><td>Nan</td><td>Nan</td><td>L</td><td>85</td><td>180.0</td><td>2021-05-06T23:17:50.717</td><td>2459341.461724</td><td>&apos;&apos;&apos;&apos;205.9920806&apos;</td><td>&apos;&apos;&apos;&apos;31.32330656&apos;</td><td>c2020t2-20210506-2255-180s-f85</td></tr>\n",
       "<tr><td>c2020t2</td><td>CAM1</td><td>Atik Camera Driver-KAF8300</td><td>UT1</td><td>Nan</td><td>Nan</td><td>Nan</td><td>Filter 1</td><td>85</td><td>1080.0</td><td>2021-05-15T22:31:44.077</td><td>2459350.433065</td><td>&apos;&apos;&apos;205.1324415&apos;&apos;</td><td>&apos;&apos;&apos;29.91611981&apos;&apos;</td><td>c2020t2-20210515-2215-6x180s-f85</td></tr>\n",
       "<tr><td>c2020t2</td><td>CAM1</td><td>Atik 383L</td><td>UT1</td><td>Nan</td><td>Nan</td><td>Nan</td><td>Red</td><td>85</td><td>2100.0</td><td>2021-05-01T23:11:51.268</td><td>2459336.455645</td><td>&apos;&apos;&apos;205.8345755&apos;&apos;</td><td>&apos;&apos;&apos;33.56224236&apos;&apos;</td><td>c2020t2-20210501-2245-7x300s-f85</td></tr>\n",
       "<tr><td>c2020t2</td><td>CAM1</td><td>Atik Camera Driver-KAF8300</td><td>UT1</td><td>Nan</td><td>Nan</td><td>Nan</td><td>L</td><td>85</td><td>1440.0</td><td>2021-05-08T22:42:55.573</td><td>2459343.438671</td><td>&apos;&apos;&apos;205.6204943&apos;&apos;</td><td>&apos;&apos;&apos;30.84452563&apos;&apos;</td><td>c2020t2-20210508-2223-8x180s-f85</td></tr>\n",
       "<tr><td>c2020t2</td><td>CAM1</td><td>Atik Camera Driver-KAF8300</td><td>UT1</td><td>Nan</td><td>Nan</td><td>Nan</td><td>Filter 1</td><td>85</td><td>2100.0</td><td>2021-06-01T22:43:06.965</td><td>2459367.435647</td><td>&apos;&apos;&apos;202.9704765&apos;&apos;</td><td>&apos;&apos;&apos;24.10467233&apos;&apos;</td><td>c2020t2-20210601-2211-7x300s-f85</td></tr>\n",
       "<tr><td>c2020t2</td><td>CAM1</td><td>Atik Camera Driver-KAF8300</td><td>UT1</td><td>Nan</td><td>Nan</td><td>Nan</td><td>Filter 2</td><td>85</td><td>720.0</td><td>2021-05-22T22:33:21.485</td><td>2459357.431785</td><td>&apos;&apos;&apos;204.6710642&apos;&apos;</td><td>&apos;&apos;&apos;25.89142141&apos;&apos;</td><td>c2020t2-20210522-2209-4x180s-f85</td></tr>\n",
       "<tr><td>c2020t2</td><td>CAM1</td><td>Atik Camera Driver-KAF8300</td><td>UT1</td><td>Nan</td><td>Nan</td><td>Nan</td><td>Filter 1</td><td>85</td><td>2160.0</td><td>2021-05-26T22:56:01.218</td><td>2459361.439505</td><td>&apos;&apos;&apos;204.2977242&apos;&apos;</td><td>&apos;&apos;&apos;25.88997574&apos;&apos;</td><td>c2020t2-20210526-2214-12x180s-f85</td></tr>\n",
       "<tr><td>c2020t2</td><td>CAM1</td><td>Atik Camera Driver-KAF8300</td><td>UT1</td><td>Nan</td><td>Nan</td><td>Nan</td><td>Filter 1</td><td>85</td><td>900.0</td><td>2021-06-05T22:48:00</td><td>2459371.45</td><td>Nan</td><td>Nan</td><td>c2020t2-20210605-2248-3x300s-f85</td></tr>\n",
       "<tr><td>c2020t2</td><td>CAM1</td><td>Atik Camera Driver-KAF8300</td><td>UT1</td><td>Nan</td><td>Nan</td><td>Nan</td><td>Filter 1</td><td>85</td><td>2700.0</td><td>2021-05-27T22:45:32.231</td><td>2459362.434586</td><td>&apos;&apos;&apos;204.1759876&apos;&apos;</td><td>&apos;&apos;&apos;25.02979664&apos;&apos;</td><td>c2020t2-20210527-2203-15x180s-f85</td></tr>\n",
       "<tr><td>c2020t2</td><td>CAM1</td><td>Atik 383L</td><td>UT1</td><td>Nan</td><td>Nan</td><td>Nan</td><td>Red</td><td>85</td><td>1080.0</td><td>2021-04-30T21:56:36.655</td><td>2459335.406224</td><td>&apos;&apos;&apos;206.7945251&apos;&apos;</td><td>&apos;&apos;&apos;33.94568259&apos;&apos;</td><td>c2020t2-20210430-2128-18x60s-f85</td></tr>\n",
       "<tr><td>c2020t2</td><td>CAM1</td><td>Atik Camera Driver-KAF8300</td><td>UT1</td><td>Nan</td><td>Nan</td><td>Nan</td><td>Filter 1</td><td>85</td><td>2100.0</td><td>2021-05-28T22:45:59.340</td><td>2459363.437657</td><td>&apos;&apos;&apos;204.3995301&apos;&apos;</td><td>&apos;&apos;&apos;24.46906048&apos;&apos;</td><td>c2020t2-20210528-2214-7x300s-f85</td></tr>\n",
       "<tr><td>c2020t2</td><td>CAM1</td><td>Atik 383L</td><td>UT1</td><td>Nan</td><td>Nan</td><td>Nan</td><td>Red</td><td>85</td><td>300.0</td><td>2021-05-02T22:10:00</td><td>2459337.423611111</td><td>Nan</td><td>Nan</td><td>c2020t2-20210502-2210-300s-f85</td></tr>\n",
       "</table>"
      ],
      "text/plain": [
       "<Table length=15>\n",
       "   ID   OBSERVER ...       DEC                       FILE              \n",
       " str27   str16   ...      str32                     str54              \n",
       "------- -------- ... ---------------- ---------------------------------\n",
       "c2020t2     CAM1 ... '''23.30661905''  c2020t2-20210531-2226-5x300s-f85\n",
       "c2020t2     CAM1 ... '''24.94850744''  c2020t2-20210530-2221-5x300s-f85\n",
       "c2020t2     CAM1 ...              Nan    c2020t2-20210522-2209-180s-f85\n",
       "c2020t2     CAM1 ... ''''31.32330656'    c2020t2-20210506-2255-180s-f85\n",
       "c2020t2     CAM1 ... '''29.91611981''  c2020t2-20210515-2215-6x180s-f85\n",
       "c2020t2     CAM1 ... '''33.56224236''  c2020t2-20210501-2245-7x300s-f85\n",
       "c2020t2     CAM1 ... '''30.84452563''  c2020t2-20210508-2223-8x180s-f85\n",
       "c2020t2     CAM1 ... '''24.10467233''  c2020t2-20210601-2211-7x300s-f85\n",
       "c2020t2     CAM1 ... '''25.89142141''  c2020t2-20210522-2209-4x180s-f85\n",
       "c2020t2     CAM1 ... '''25.88997574'' c2020t2-20210526-2214-12x180s-f85\n",
       "c2020t2     CAM1 ...              Nan  c2020t2-20210605-2248-3x300s-f85\n",
       "c2020t2     CAM1 ... '''25.02979664'' c2020t2-20210527-2203-15x180s-f85\n",
       "c2020t2     CAM1 ... '''33.94568259''  c2020t2-20210430-2128-18x60s-f85\n",
       "c2020t2     CAM1 ... '''24.46906048''  c2020t2-20210528-2214-7x300s-f85\n",
       "c2020t2     CAM1 ...              Nan    c2020t2-20210502-2210-300s-f85"
      ]
     },
     "execution_count": 9,
     "metadata": {},
     "output_type": "execute_result"
    }
   ],
   "source": [
    "a.find('c2020t2')"
   ]
  },
  {
   "cell_type": "markdown",
   "id": "d76c4867-69fb-478f-bfe5-9073880d7ed3",
   "metadata": {},
   "source": [
    "- Display the \"FILE\" header file"
   ]
  },
  {
   "cell_type": "code",
   "execution_count": 10,
   "id": "ce59199f-6148-460c-953d-f8d2cb74e309",
   "metadata": {},
   "outputs": [
    {
     "data": {
      "text/plain": [
       "SIMPLE  =                    T                                                  \n",
       "BITPIX  =                   16                                                  \n",
       "NAXIS   =                    2                                                  \n",
       "NAXIS1  =                 3354                                                  \n",
       "NAXIS2  =                 2529                                                  \n",
       "MIPS-HI =                 3948                                                  \n",
       "MIPS-LO =                 2500                                                  \n",
       "MIPS-X1 =                    0                                                  \n",
       "MIPS-Y1 =                    0                                                  \n",
       "MIPS-X2 =                    0                                                  \n",
       "MIPS-Y2 =                    0                                                  \n",
       "MIPS-BIX=                    1                                                  \n",
       "MIPS-BIY=                    1                                                  \n",
       "MIPS-CCD=                    1                                                  \n",
       "MIPS-FL =                    0                                                  \n",
       "MIPS-SX =                    0                                                  \n",
       "MIPS-SY =                    0                                                  \n",
       "MIPS-NOR=             0.000000                                                  \n",
       "MIPS-CST=             0.000000                                                  \n",
       "OBJECT  = 'c2020t2-0605'                                                        \n",
       "ORIGIN  = 'UT1     '                                                            \n",
       "TELESCOP= 'UT1     '                                                            \n",
       "INSTRUME= 'Atik 383L'                                                           \n",
       "OBSERVER= 'CAM1    '                                                            \n",
       "FILTERS = 'L       '                                                            \n",
       "DATE    = '2021-05-06T23:21:04'                                                 \n",
       "DATE-OBS= '2021-05-06T23:17:50.717'                                             \n",
       "UT-START= '23:04:52'                                                            \n",
       "EXPTIME =                  180                                                  \n",
       "JD      =       2459341.461724                                                  \n",
       "RA      = ''''''''205.9920806'''                                                \n",
       "DEC     = ''''''''31.32330656'''                                                \n",
       "AIRMASS = ''''''''1.061   ''''''                                                "
      ]
     },
     "execution_count": 10,
     "metadata": {},
     "output_type": "execute_result"
    }
   ],
   "source": [
    "a.header('c2020t2-20210506-2255-180s-f85')"
   ]
  },
  {
   "cell_type": "markdown",
   "id": "1314a79a-71cd-4420-bf9c-b9420b45beed",
   "metadata": {},
   "source": [
    "- Parse the name \"FILE\""
   ]
  },
  {
   "cell_type": "code",
   "execution_count": 10,
   "id": "c642277d-8510-4d59-a754-629cd0ea4a54",
   "metadata": {},
   "outputs": [
    {
     "data": {
      "text/plain": [
       "'2021-07-18T22:30:00'"
      ]
     },
     "execution_count": 10,
     "metadata": {},
     "output_type": "execute_result"
    }
   ],
   "source": [
    "a.date('v1405cas-20210718-2230-9x60s-f85')"
   ]
  },
  {
   "cell_type": "code",
   "execution_count": 11,
   "id": "c30990de-13e7-4eb9-8381-89c6931de72e",
   "metadata": {},
   "outputs": [
    {
     "data": {
      "text/plain": [
       "'85'"
      ]
     },
     "execution_count": 11,
     "metadata": {},
     "output_type": "execute_result"
    }
   ],
   "source": [
    "a.focal('v1405cas-20210718-2230-9x60s-f85.fits')"
   ]
  },
  {
   "cell_type": "code",
   "execution_count": 12,
   "id": "48842717-f351-433d-8a15-635a4ff8e021",
   "metadata": {},
   "outputs": [
    {
     "data": {
      "text/plain": [
       "'v1405cas'"
      ]
     },
     "execution_count": 12,
     "metadata": {},
     "output_type": "execute_result"
    }
   ],
   "source": [
    "a.object_name('v1405cas-20210718-2230-9x60s-f85.fits')"
   ]
  },
  {
   "cell_type": "code",
   "execution_count": 5,
   "id": "7adf5a25-3362-4c48-88a5-8f0eab7cb730",
   "metadata": {},
   "outputs": [
    {
     "data": {
      "text/plain": [
       "540.0"
      ]
     },
     "execution_count": 5,
     "metadata": {},
     "output_type": "execute_result"
    }
   ],
   "source": [
    "a.exptime('v1405cas-20210527-2138-9x60s-f85')"
   ]
  },
  {
   "cell_type": "markdown",
   "id": "2e29deda-47fe-42e8-896a-a8842f3d956a",
   "metadata": {},
   "source": [
    "- Others functions for the database archive"
   ]
  },
  {
   "cell_type": "code",
   "execution_count": 9,
   "id": "d2dc94e5-68e9-421a-bc00-6f75481e109c",
   "metadata": {},
   "outputs": [
    {
     "data": {
      "text/plain": [
       "4.750545906926161"
      ]
     },
     "execution_count": 9,
     "metadata": {},
     "output_type": "execute_result"
    }
   ],
   "source": [
    "a.period/365"
   ]
  },
  {
   "cell_type": "code",
   "execution_count": 12,
   "id": "f5c38e60-97c5-43dc-8a82-bcef7fd3cc7b",
   "metadata": {},
   "outputs": [
    {
     "data": {
      "text/plain": [
       "10.161863425925926"
      ]
     },
     "execution_count": 12,
     "metadata": {},
     "output_type": "execute_result"
    }
   ],
   "source": [
    "a.exptimes/3600/24"
   ]
  }
 ],
 "metadata": {
  "kernelspec": {
   "display_name": "Python 3",
   "language": "python",
   "name": "python3"
  },
  "language_info": {
   "codemirror_mode": {
    "name": "ipython",
    "version": 3
   },
   "file_extension": ".py",
   "mimetype": "text/x-python",
   "name": "python",
   "nbconvert_exporter": "python",
   "pygments_lexer": "ipython3",
   "version": "3.9.1"
  }
 },
 "nbformat": 4,
 "nbformat_minor": 5
}
