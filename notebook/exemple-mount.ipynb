{
 "cells": [
  {
   "cell_type": "markdown",
   "id": "422ed6d4",
   "metadata": {},
   "source": [
    "## Exemple mount with Alpaca and IndiClient"
   ]
  },
  {
   "cell_type": "code",
   "execution_count": 1,
   "id": "0f8dfc2e",
   "metadata": {},
   "outputs": [],
   "source": [
    "from alpaca import Telescope\n",
    "from ciboulette.indiclient.telescope import LX200Generic\n",
    "from ciboulette.base import ciboulette"
   ]
  },
  {
   "cell_type": "markdown",
   "id": "0d7c81e5",
   "metadata": {},
   "source": [
    "- Create and initialize ciboulette class and Alpaca telescope class, Synscan in driver 0"
   ]
  },
  {
   "cell_type": "code",
   "execution_count": 2,
   "id": "a89c91d0",
   "metadata": {},
   "outputs": [],
   "source": [
    "cbl = ciboulette.Ciboulette()\n",
    "cbl.serverport = {'SVR': '192.168.1.18', 'PORT': 11111} \n",
    "# cbl.device = 0\n",
    "# ***Init the mout correctly***\n",
    "telescope = Telescope(cbl.serverport,cbl.device)"
   ]
  },
  {
   "cell_type": "markdown",
   "id": "271d9343",
   "metadata": {},
   "source": [
    "- Initialize to star position Alpha Boutis"
   ]
  },
  {
   "cell_type": "code",
   "execution_count": 4,
   "id": "309c9846",
   "metadata": {},
   "outputs": [],
   "source": [
    "cbl.positionsbyname = 'Alp Boo'\n",
    "cbl.synctocoordinates(telescope)         "
   ]
  },
  {
   "cell_type": "markdown",
   "id": "f09f7374",
   "metadata": {},
   "source": [
    "- Move to star position Eta Boutis"
   ]
  },
  {
   "cell_type": "code",
   "execution_count": 5,
   "id": "6c69fb3b",
   "metadata": {},
   "outputs": [],
   "source": [
    "cbl.positionsbyname = 'Eta Boo'\n",
    "cbl.slewtocoordinates(telescope)  "
   ]
  },
  {
   "cell_type": "markdown",
   "id": "8df84f1f",
   "metadata": {},
   "source": [
    "- Create and initialize ciboulette class and Indilib telescope class"
   ]
  },
  {
   "cell_type": "code",
   "execution_count": 2,
   "id": "cf9d1627",
   "metadata": {},
   "outputs": [],
   "source": [
    "cbl_indi = ciboulette.Ciboulette()\n",
    "cbl_indi.serverport = {'SVR': '192.168.1.30', 'PORT': 7624} \n",
    "# ***Init the mout correctly***\n",
    "telescope_indi = LX200Generic(cbl_indi.server,cbl_indi.port)"
   ]
  },
  {
   "cell_type": "markdown",
   "id": "89186b3f",
   "metadata": {},
   "source": [
    "- Initialize to star position Alpha Boutis"
   ]
  },
  {
   "cell_type": "code",
   "execution_count": 11,
   "id": "3cf786ed",
   "metadata": {},
   "outputs": [
    {
     "name": "stdout",
     "output_type": "stream",
     "text": [
      "<newSwitchVector device=\"Standard LX200\" name=\"TELESCOPE_PARK\"> <oneSwitch name=\"PARK\"> Off</oneSwitch> <oneSwitch name=\"UNPARK\"> On</oneSwitch> </newSwitchVector> \n",
      "<newSwitchVector device=\"Standard LX200\" name=\"ON_COORD_SET\"> <oneSwitch name=\"TRACK\"> On</oneSwitch> <oneSwitch name=\"SLEW\"> Off</oneSwitch> <oneSwitch name=\"SYNC\"> Off</oneSwitch> </newSwitchVector> \n",
      "<newSwitchVector device=\"Standard LX200\" name=\"ON_COORD_SET\"> <oneSwitch name=\"TRACK\"> On</oneSwitch> <oneSwitch name=\"SLEW\"> Off</oneSwitch> <oneSwitch name=\"SYNC\"> Off</oneSwitch> </newSwitchVector> \n",
      "<newSwitchVector device=\"Standard LX200\" name=\"ON_COORD_SET\"> <oneSwitch name=\"TRACK\"> Off</oneSwitch> <oneSwitch name=\"SLEW\"> Off</oneSwitch> <oneSwitch name=\"SYNC\"> On</oneSwitch> </newSwitchVector> \n",
      "<newNumberVector device=\"Standard LX200\" name=\"EQUATORIAL_EOD_COORD\"> <oneNumber name=\"RA\"> 14.26102</oneNumber> <oneNumber name=\"DEC\"> 27.074224722222223</oneNumber> </newNumberVector> \n",
      "<newNumberVector device=\"Standard LX200\" name=\"EQUATORIAL_EOD_COORD\"> <oneNumber name=\"RA\"> 14.26102</oneNumber> <oneNumber name=\"DEC\"> 19.18240916666667</oneNumber> </newNumberVector> \n",
      "<newSwitchVector device=\"Standard LX200\" name=\"ON_COORD_SET\"> <oneSwitch name=\"TRACK\"> On</oneSwitch> <oneSwitch name=\"SLEW\"> Off</oneSwitch> <oneSwitch name=\"SYNC\"> Off</oneSwitch> </newSwitchVector> \n"
     ]
    }
   ],
   "source": [
    "cbl_indi.positionsbyname = 'Alp Boo'\n",
    "cbl_indi.synctocoordinates(telescope_indi)   "
   ]
  },
  {
   "cell_type": "code",
   "execution_count": 15,
   "id": "ecc3f5c3",
   "metadata": {},
   "outputs": [
    {
     "name": "stdout",
     "output_type": "stream",
     "text": [
      "<newSwitchVector device=\"Standard LX200\" name=\"ON_COORD_SET\"> <oneSwitch name=\"TRACK\"> On</oneSwitch> <oneSwitch name=\"SLEW\"> Off</oneSwitch> <oneSwitch name=\"SYNC\"> Off</oneSwitch> </newSwitchVector> \n",
      "<newSwitchVector device=\"Standard LX200\" name=\"ON_COORD_SET\"> <oneSwitch name=\"TRACK\"> Off</oneSwitch> <oneSwitch name=\"SLEW\"> On</oneSwitch> <oneSwitch name=\"SYNC\"> Off</oneSwitch> </newSwitchVector> \n",
      "<newNumberVector device=\"Standard LX200\" name=\"EQUATORIAL_EOD_COORD\"> <oneNumber name=\"RA\"> 14.685819861111112</oneNumber> <oneNumber name=\"DEC\"> 54.34875</oneNumber> </newNumberVector> \n",
      "<newNumberVector device=\"Standard LX200\" name=\"EQUATORIAL_EOD_COORD\"> <oneNumber name=\"RA\"> 14.685819861111112</oneNumber> <oneNumber name=\"DEC\"> 13.728304444444445</oneNumber> </newNumberVector> \n",
      "<newSwitchVector device=\"Standard LX200\" name=\"ON_COORD_SET\"> <oneSwitch name=\"TRACK\"> On</oneSwitch> <oneSwitch name=\"SLEW\"> Off</oneSwitch> <oneSwitch name=\"SYNC\"> Off</oneSwitch> </newSwitchVector> \n"
     ]
    }
   ],
   "source": [
    "cbl_indi.positionsbyname = 'Zet Boo'\n",
    "cbl_indi.slewtocoordinates(telescope_indi)  "
   ]
  },
  {
   "cell_type": "code",
   "execution_count": 7,
   "id": "47906e99",
   "metadata": {},
   "outputs": [
    {
     "data": {
      "text/plain": [
       "(13.911410805555557, 18.397720555555555)"
      ]
     },
     "execution_count": 7,
     "metadata": {},
     "output_type": "execute_result"
    }
   ],
   "source": [
    "cbl_indi.coordinates"
   ]
  },
  {
   "cell_type": "code",
   "execution_count": null,
   "id": "b0ef08f1",
   "metadata": {},
   "outputs": [],
   "source": []
  }
 ],
 "metadata": {
  "kernelspec": {
   "display_name": "Python 3",
   "language": "python",
   "name": "python3"
  },
  "language_info": {
   "codemirror_mode": {
    "name": "ipython",
    "version": 3
   },
   "file_extension": ".py",
   "mimetype": "text/x-python",
   "name": "python",
   "nbconvert_exporter": "python",
   "pygments_lexer": "ipython3",
   "version": "3.8.5"
  }
 },
 "nbformat": 4,
 "nbformat_minor": 5
}
