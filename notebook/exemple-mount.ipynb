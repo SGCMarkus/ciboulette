{
 "cells": [
  {
   "cell_type": "markdown",
   "id": "19b38934",
   "metadata": {},
   "source": [
    "## Exemple mount with Alpaca and IndiClient"
   ]
  },
  {
   "cell_type": "code",
   "execution_count": 1,
   "id": "ffb9ec5a",
   "metadata": {},
   "outputs": [],
   "source": [
    "from alpaca import Telescope\n",
    "from ciboulette.indiclient.telescope import LX200Generic\n",
    "from ciboulette.base import ciboulette"
   ]
  },
  {
   "cell_type": "markdown",
   "id": "eaaeb192",
   "metadata": {},
   "source": [
    "- Create and initialize ciboulette class and Alpaca telescope class, Synscan in driver 0"
   ]
  },
  {
   "cell_type": "code",
   "execution_count": 2,
   "id": "1700e62d",
   "metadata": {},
   "outputs": [],
   "source": [
    "cbl = ciboulette.Ciboulette()\n",
    "cbl.serverport = {'SVR': '192.168.1.18', 'PORT': 11111} \n",
    "# cbl.device = 0\n",
    "# ***Init the mout correctly***\n",
    "telescope = Telescope(cbl.serverport,cbl.device)"
   ]
  },
  {
   "cell_type": "markdown",
   "id": "f6be0931",
   "metadata": {},
   "source": [
    "![CIBOULETTE](mountinit.png)"
   ]
  },
  {
   "cell_type": "markdown",
   "id": "2f7c50f5",
   "metadata": {},
   "source": [
    "Fig. 1. *Initial state of SynScan application and Skychart application*"
   ]
  },
  {
   "cell_type": "markdown",
   "id": "460451a9",
   "metadata": {},
   "source": [
    "- Initialize to star position Alpha Boutis"
   ]
  },
  {
   "cell_type": "code",
   "execution_count": 4,
   "id": "8fd3f08d",
   "metadata": {},
   "outputs": [],
   "source": [
    "cbl.positionsbyname = 'Alp Boo'\n",
    "cbl.synctocoordinates(telescope)         "
   ]
  },
  {
   "cell_type": "markdown",
   "id": "b0dc5516",
   "metadata": {},
   "source": [
    "![CIBOULETTE](mountsync.png)"
   ]
  },
  {
   "cell_type": "markdown",
   "id": "d87a225b",
   "metadata": {},
   "source": [
    "Fig. 2. *Applications initialized with the coordinates of the star*"
   ]
  },
  {
   "cell_type": "markdown",
   "id": "e90f3c8b",
   "metadata": {},
   "source": [
    "- Move to star position Eta Boutis"
   ]
  },
  {
   "cell_type": "code",
   "execution_count": 5,
   "id": "8acd1655",
   "metadata": {},
   "outputs": [],
   "source": [
    "cbl.positionsbyname = 'Eta Boo'\n",
    "cbl.slewtocoordinates(telescope)  "
   ]
  },
  {
   "cell_type": "markdown",
   "id": "722013a7",
   "metadata": {},
   "source": [
    "![CIBOULETTE](mountslew.png)"
   ]
  },
  {
   "cell_type": "markdown",
   "id": "e5d186cd",
   "metadata": {},
   "source": [
    "Fig. 3. *Slew on the referenced star*"
   ]
  },
  {
   "cell_type": "markdown",
   "id": "cc1833d6",
   "metadata": {},
   "source": [
    "- Create and initialize ciboulette class and Indilib telescope class"
   ]
  },
  {
   "cell_type": "code",
   "execution_count": 3,
   "id": "56304b14",
   "metadata": {},
   "outputs": [
    {
     "name": "stdout",
     "output_type": "stream",
     "text": [
      "<newSwitchVector device=\"Standard LX200\" name=\"CONNECTION\"> <oneSwitch name=\"CONNECT\"> On</oneSwitch> <oneSwitch name=\"DISCONNECT\"> Off</oneSwitch> </newSwitchVector> \n",
      "<newTextVector device=\"Standard LX200\" name=\"TIME_UTC\"> <oneText name=\"UTC\"> 2021-05-10T09:43:33.418</oneText> <oneText name=\"OFFSET\"> 0.00</oneText> </newTextVector> \n",
      "<newTextVector device=\"Standard LX200\" name=\"TIME_UTC\"> <oneText name=\"UTC\"> 2021-05-10T09:43:33.418</oneText> <oneText name=\"OFFSET\"> 0</oneText> </newTextVector> \n",
      "<newSwitchVector device=\"Standard LX200\" name=\"Sites\"> <oneSwitch name=\"Site 1\"> Off</oneSwitch> <oneSwitch name=\"Site 2\"> Off</oneSwitch> <oneSwitch name=\"Site 3\"> Off</oneSwitch> <oneSwitch name=\"Site 4\"> On</oneSwitch> </newSwitchVector> \n"
     ]
    }
   ],
   "source": [
    "cbl_indi = ciboulette.Ciboulette()\n",
    "cbl_indi.serverport = {'SVR': '192.168.1.30', 'PORT': 7624} \n",
    "# ***Init the mout correctly***\n",
    "telescope_indi = LX200Generic(cbl_indi.server,cbl_indi.port)"
   ]
  },
  {
   "cell_type": "markdown",
   "id": "831d7a7f",
   "metadata": {},
   "source": [
    "![CIBOULETTE](mountinitLX200.png)"
   ]
  },
  {
   "cell_type": "markdown",
   "id": "3e80ed72",
   "metadata": {},
   "source": [
    "Fig. 4. *Skychart application initial state*"
   ]
  },
  {
   "cell_type": "markdown",
   "id": "790048f8",
   "metadata": {},
   "source": [
    "- Initialize to star position Alpha Perseus"
   ]
  },
  {
   "cell_type": "code",
   "execution_count": 6,
   "id": "4a992a0e",
   "metadata": {},
   "outputs": [
    {
     "name": "stdout",
     "output_type": "stream",
     "text": [
      "<newSwitchVector device=\"Standard LX200\" name=\"TELESCOPE_PARK\"> <oneSwitch name=\"PARK\"> Off</oneSwitch> <oneSwitch name=\"UNPARK\"> On</oneSwitch> </newSwitchVector> \n",
      "<newSwitchVector device=\"Standard LX200\" name=\"ON_COORD_SET\"> <oneSwitch name=\"TRACK\"> On</oneSwitch> <oneSwitch name=\"SLEW\"> Off</oneSwitch> <oneSwitch name=\"SYNC\"> Off</oneSwitch> </newSwitchVector> \n",
      "<newSwitchVector device=\"Standard LX200\" name=\"ON_COORD_SET\"> <oneSwitch name=\"TRACK\"> On</oneSwitch> <oneSwitch name=\"SLEW\"> Off</oneSwitch> <oneSwitch name=\"SYNC\"> Off</oneSwitch> </newSwitchVector> \n",
      "<newSwitchVector device=\"Standard LX200\" name=\"ON_COORD_SET\"> <oneSwitch name=\"TRACK\"> Off</oneSwitch> <oneSwitch name=\"SLEW\"> Off</oneSwitch> <oneSwitch name=\"SYNC\"> On</oneSwitch> </newSwitchVector> \n",
      "<newNumberVector device=\"Standard LX200\" name=\"EQUATORIAL_EOD_COORD\"> <oneNumber name=\"RA\"> 3.4053805555555554</oneNumber> <oneNumber name=\"DEC\"> 77.79449388888888</oneNumber> </newNumberVector> \n",
      "<newNumberVector device=\"Standard LX200\" name=\"EQUATORIAL_EOD_COORD\"> <oneNumber name=\"RA\"> 3.4053805555555554</oneNumber> <oneNumber name=\"DEC\"> 49.861179166666666</oneNumber> </newNumberVector> \n",
      "<newSwitchVector device=\"Standard LX200\" name=\"ON_COORD_SET\"> <oneSwitch name=\"TRACK\"> On</oneSwitch> <oneSwitch name=\"SLEW\"> Off</oneSwitch> <oneSwitch name=\"SYNC\"> Off</oneSwitch> </newSwitchVector> \n"
     ]
    }
   ],
   "source": [
    "cbl_indi.positionsbyname = 'Alp Per'\n",
    "cbl_indi.synctocoordinates(telescope_indi)   "
   ]
  },
  {
   "cell_type": "markdown",
   "id": "d7ac0912",
   "metadata": {},
   "source": [
    "![CIBOULETTE](mountsyncLX200.png)"
   ]
  },
  {
   "cell_type": "markdown",
   "id": "648a6f39",
   "metadata": {},
   "source": [
    "Fig. 5. *Applications initialized with the coordinates of the star*"
   ]
  },
  {
   "cell_type": "code",
   "execution_count": 7,
   "id": "e4e2ca5a",
   "metadata": {},
   "outputs": [
    {
     "name": "stdout",
     "output_type": "stream",
     "text": [
      "<newSwitchVector device=\"Standard LX200\" name=\"ON_COORD_SET\"> <oneSwitch name=\"TRACK\"> On</oneSwitch> <oneSwitch name=\"SLEW\"> Off</oneSwitch> <oneSwitch name=\"SYNC\"> Off</oneSwitch> </newSwitchVector> \n",
      "<newSwitchVector device=\"Standard LX200\" name=\"ON_COORD_SET\"> <oneSwitch name=\"TRACK\"> Off</oneSwitch> <oneSwitch name=\"SLEW\"> On</oneSwitch> <oneSwitch name=\"SYNC\"> Off</oneSwitch> </newSwitchVector> \n",
      "<newNumberVector device=\"Standard LX200\" name=\"EQUATORIAL_EOD_COORD\"> <oneNumber name=\"RA\"> 3.9022006666666664</oneNumber> <oneNumber name=\"DEC\"> 49.861179166666666</oneNumber> </newNumberVector> \n",
      "<newNumberVector device=\"Standard LX200\" name=\"EQUATORIAL_EOD_COORD\"> <oneNumber name=\"RA\"> 3.9022006666666664</oneNumber> <oneNumber name=\"DEC\"> 31.88363361111111</oneNumber> </newNumberVector> \n",
      "<newSwitchVector device=\"Standard LX200\" name=\"ON_COORD_SET\"> <oneSwitch name=\"TRACK\"> On</oneSwitch> <oneSwitch name=\"SLEW\"> Off</oneSwitch> <oneSwitch name=\"SYNC\"> Off</oneSwitch> </newSwitchVector> \n"
     ]
    }
   ],
   "source": [
    "cbl_indi.positionsbyname = 'Zet Per'\n",
    "cbl_indi.slewtocoordinates(telescope_indi)  "
   ]
  },
  {
   "cell_type": "markdown",
   "id": "35cb320f",
   "metadata": {},
   "source": [
    "![CIBOULETTE](mountslewLX200.png)"
   ]
  },
  {
   "cell_type": "markdown",
   "id": "5d40d874",
   "metadata": {},
   "source": [
    "Fig. 6. *slew on the referenced star*"
   ]
  },
  {
   "cell_type": "code",
   "execution_count": null,
   "id": "81c963df",
   "metadata": {},
   "outputs": [],
   "source": []
  }
 ],
 "metadata": {
  "kernelspec": {
   "display_name": "Python 3",
   "language": "python",
   "name": "python3"
  },
  "language_info": {
   "codemirror_mode": {
    "name": "ipython",
    "version": 3
   },
   "file_extension": ".py",
   "mimetype": "text/x-python",
   "name": "python",
   "nbconvert_exporter": "python",
   "pygments_lexer": "ipython3",
   "version": "3.8.5"
  }
 },
 "nbformat": 4,
 "nbformat_minor": 5
}
