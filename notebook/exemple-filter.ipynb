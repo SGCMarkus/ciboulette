{
 "cells": [
  {
   "cell_type": "markdown",
   "id": "operating-carrier",
   "metadata": {},
   "source": [
    "## Exemple filter with Alpaca and IndiClient"
   ]
  },
  {
   "cell_type": "code",
   "execution_count": 1,
   "id": "wooden-outreach",
   "metadata": {},
   "outputs": [],
   "source": [
    "from alpaca import FilterWheel\n",
    "from ciboulette.indiclient import filterwheel\n",
    "from ciboulette.base import ciboulette"
   ]
  },
  {
   "cell_type": "markdown",
   "id": "pretty-allergy",
   "metadata": {},
   "source": [
    "- Create and initialize ciboulette class and Alpaca filterwheel class"
   ]
  },
  {
   "cell_type": "code",
   "execution_count": 2,
   "id": "aerial-valley",
   "metadata": {},
   "outputs": [],
   "source": [
    "cbl = ciboulette.Ciboulette()\n",
    "cbl.serverport = {'SVR': '192.168.1.18', 'PORT': 11111} \n",
    "fw = FilterWheel(cbl.serverport,cbl.device)"
   ]
  },
  {
   "cell_type": "markdown",
   "id": "educational-baptist",
   "metadata": {},
   "source": [
    "- Initialize to position 0"
   ]
  },
  {
   "cell_type": "code",
   "execution_count": 3,
   "id": "genetic-occurrence",
   "metadata": {},
   "outputs": [],
   "source": [
    "fw.position(0)"
   ]
  },
  {
   "cell_type": "markdown",
   "id": "least-luxury",
   "metadata": {},
   "source": [
    "- List filterwheel "
   ]
  },
  {
   "cell_type": "code",
   "execution_count": 4,
   "id": "portuguese-semiconductor",
   "metadata": {},
   "outputs": [
    {
     "data": {
      "text/plain": [
       "['L', 'OIII', 'Ha', 'V', 'SA200']"
      ]
     },
     "execution_count": 4,
     "metadata": {},
     "output_type": "execute_result"
    }
   ],
   "source": [
    "fw.names()"
   ]
  },
  {
   "cell_type": "markdown",
   "id": "educated-setup",
   "metadata": {},
   "source": [
    "- Define filter for ciboulette"
   ]
  },
  {
   "cell_type": "code",
   "execution_count": 5,
   "id": "american-friday",
   "metadata": {},
   "outputs": [],
   "source": [
    "cbl.filtername = 'Ha'"
   ]
  },
  {
   "cell_type": "markdown",
   "id": "usual-anaheim",
   "metadata": {},
   "source": [
    "- Move filterwheel"
   ]
  },
  {
   "cell_type": "code",
   "execution_count": 6,
   "id": "hybrid-raising",
   "metadata": {},
   "outputs": [],
   "source": [
    "cbl.filterwheel(fw)"
   ]
  },
  {
   "cell_type": "markdown",
   "id": "scheduled-strength",
   "metadata": {},
   "source": [
    "- Check the position in filterwheel"
   ]
  },
  {
   "cell_type": "code",
   "execution_count": 8,
   "id": "ecological-express",
   "metadata": {},
   "outputs": [
    {
     "data": {
      "text/plain": [
       "2"
      ]
     },
     "execution_count": 8,
     "metadata": {},
     "output_type": "execute_result"
    }
   ],
   "source": [
    "fw.position()"
   ]
  },
  {
   "cell_type": "markdown",
   "id": "architectural-princeton",
   "metadata": {},
   "source": [
    "- Define filter for ciboulette and move filterwheel"
   ]
  },
  {
   "cell_type": "code",
   "execution_count": 9,
   "id": "random-accordance",
   "metadata": {},
   "outputs": [],
   "source": [
    "cbl.filtername = 'L'\n",
    "cbl.filterwheel(fw)"
   ]
  },
  {
   "cell_type": "markdown",
   "id": "nearby-sheffield",
   "metadata": {},
   "source": [
    "- Check the position in filterwheel"
   ]
  },
  {
   "cell_type": "code",
   "execution_count": 11,
   "id": "beautiful-diagnosis",
   "metadata": {},
   "outputs": [
    {
     "data": {
      "text/plain": [
       "0"
      ]
     },
     "execution_count": 11,
     "metadata": {},
     "output_type": "execute_result"
    }
   ],
   "source": [
    "fw.position()"
   ]
  },
  {
   "cell_type": "markdown",
   "id": "medium-differential",
   "metadata": {},
   "source": [
    "- Create and initialize ciboulette class and IndiClient filterwheel class"
   ]
  },
  {
   "cell_type": "code",
   "execution_count": 12,
   "id": "simplified-patient",
   "metadata": {},
   "outputs": [],
   "source": [
    "cbl_B = ciboulette.Ciboulette()\n",
    "cbl_B.serverport = {'SVR': '192.168.1.30', 'PORT': 7624} \n",
    "fw_B = filterwheel.FILTERWheelATIK(cbl_B.server,cbl_B.port)"
   ]
  },
  {
   "cell_type": "markdown",
   "id": "acoustic-prince",
   "metadata": {},
   "source": [
    "- List filterwheel"
   ]
  },
  {
   "cell_type": "code",
   "execution_count": 23,
   "id": "parliamentary-istanbul",
   "metadata": {},
   "outputs": [
    {
     "data": {
      "text/plain": [
       "['L', 'G', 'B', 'R', 'Ha', 'OIII', 'V', 'CLS', 'SA200']"
      ]
     },
     "execution_count": 23,
     "metadata": {},
     "output_type": "execute_result"
    }
   ],
   "source": [
    "fw_B.filters"
   ]
  },
  {
   "cell_type": "markdown",
   "id": "fatty-nudist",
   "metadata": {},
   "source": [
    "- Define filter for ciboulette"
   ]
  },
  {
   "cell_type": "code",
   "execution_count": 15,
   "id": "another-butler",
   "metadata": {},
   "outputs": [],
   "source": [
    "cbl_B.filtername = 'OIII'"
   ]
  },
  {
   "cell_type": "markdown",
   "id": "alpha-budget",
   "metadata": {},
   "source": [
    "- Move filterwheel"
   ]
  },
  {
   "cell_type": "code",
   "execution_count": 16,
   "id": "conditional-whole",
   "metadata": {},
   "outputs": [
    {
     "name": "stdout",
     "output_type": "stream",
     "text": [
      "<newNumberVector device=\"Atik EFW2\" name=\"FILTER_SLOT\"> <oneNumber name=\"FILTER_SLOT_VALUE\"> 6</oneNumber> </newNumberVector> \n"
     ]
    }
   ],
   "source": [
    "cbl_B.filterwheel(fw_B)"
   ]
  },
  {
   "cell_type": "markdown",
   "id": "recognized-candle",
   "metadata": {},
   "source": [
    "- Check the position in filterwheel"
   ]
  },
  {
   "cell_type": "code",
   "execution_count": 18,
   "id": "piano-camera",
   "metadata": {},
   "outputs": [
    {
     "data": {
      "text/plain": [
       "'OIII'"
      ]
     },
     "execution_count": 18,
     "metadata": {},
     "output_type": "execute_result"
    }
   ],
   "source": [
    "fw_B.name"
   ]
  },
  {
   "cell_type": "markdown",
   "id": "heavy-sunset",
   "metadata": {},
   "source": [
    "- Define filter for ciboulette and move filterwheel"
   ]
  },
  {
   "cell_type": "code",
   "execution_count": 19,
   "id": "interracial-matthew",
   "metadata": {},
   "outputs": [
    {
     "name": "stdout",
     "output_type": "stream",
     "text": [
      "<newNumberVector device=\"Atik EFW2\" name=\"FILTER_SLOT\"> <oneNumber name=\"FILTER_SLOT_VALUE\"> 1</oneNumber> </newNumberVector> \n"
     ]
    }
   ],
   "source": [
    "cbl_B.filtername = 'L'\n",
    "cbl_B.filterwheel(fw_B)"
   ]
  },
  {
   "cell_type": "markdown",
   "id": "experimental-bangladesh",
   "metadata": {},
   "source": [
    "- Check the position in filterwheel"
   ]
  },
  {
   "cell_type": "code",
   "execution_count": 24,
   "id": "conservative-album",
   "metadata": {},
   "outputs": [
    {
     "data": {
      "text/plain": [
       "'L'"
      ]
     },
     "execution_count": 24,
     "metadata": {},
     "output_type": "execute_result"
    }
   ],
   "source": [
    "fw_B.name"
   ]
  },
  {
   "cell_type": "code",
   "execution_count": null,
   "id": "signal-collaboration",
   "metadata": {},
   "outputs": [],
   "source": []
  }
 ],
 "metadata": {
  "kernelspec": {
   "display_name": "Python 3",
   "language": "python",
   "name": "python3"
  },
  "language_info": {
   "codemirror_mode": {
    "name": "ipython",
    "version": 3
   },
   "file_extension": ".py",
   "mimetype": "text/x-python",
   "name": "python",
   "nbconvert_exporter": "python",
   "pygments_lexer": "ipython3",
   "version": "3.8.5"
  }
 },
 "nbformat": 4,
 "nbformat_minor": 5
}
