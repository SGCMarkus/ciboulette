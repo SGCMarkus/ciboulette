{
 "cells": [
  {
   "cell_type": "code",
   "execution_count": 1,
   "metadata": {},
   "outputs": [],
   "source": [
    "from alpaca import Telescope, Camera, FilterWheel\n",
    "import ciboulette.base.ciboulettepy as Cbl\n",
    "import ciboulette.sector.sectorpy as Sct\n",
    "import ciboulette.utils.ephemccpy as Eph\n",
    "import ciboulette.utils.exposurepy as Exp\n",
    "import ciboulette.utils.planningpy as Pln\n"
   ]
  },
  {
   "cell_type": "markdown",
   "metadata": {},
   "source": [
    "#### Initialization of objects"
   ]
  },
  {
   "cell_type": "code",
   "execution_count": 2,
   "metadata": {},
   "outputs": [
    {
     "name": "stdout",
     "output_type": "stream",
     "text": [
      "100% [..................................................................................] 291 / 291"
     ]
    }
   ],
   "source": [
    "cbl = Cbl.Ciboulette()\n",
    "ephcc = Eph.Ephemcc()\n",
    "sct = Sct.Sector()\n",
    "exp = Exp.Exposure()\n",
    "planning = Pln.Planning('1Yc-QxFr9veMeGjqvedRMrcEDL2GRyTS_','planning.csv')\n",
    "planningtable = planning.get()"
   ]
  },
  {
   "cell_type": "markdown",
   "metadata": {},
   "source": [
    "#### Ciboulette tests\n",
    "\n",
    "- Table test\n",
    "- Filter test"
   ]
  },
  {
   "cell_type": "code",
   "execution_count": 3,
   "metadata": {},
   "outputs": [],
   "source": [
    "table_cbl = cbl.ciboulettetable()"
   ]
  },
  {
   "cell_type": "code",
   "execution_count": 4,
   "metadata": {},
   "outputs": [],
   "source": [
    "cbl.server = '192.168.1.18:11111'"
   ]
  },
  {
   "cell_type": "code",
   "execution_count": 5,
   "metadata": {},
   "outputs": [
    {
     "data": {
      "text/plain": [
       "'192.168.1.18:11111'"
      ]
     },
     "execution_count": 5,
     "metadata": {},
     "output_type": "execute_result"
    }
   ],
   "source": [
    "cbl.server"
   ]
  },
  {
   "cell_type": "code",
   "execution_count": 6,
   "metadata": {},
   "outputs": [
    {
     "name": "stdout",
     "output_type": "stream",
     "text": [
      "    DRV_NAME           SERVER       DEVICE FOCAL ...  RA DEC  OBECT\n",
      "---------------- ------------------ ------ ----- ... --- ---- -----\n",
      "FITS astropy 4.2 192.168.1.18:11111      0  85.0 ... 0.0 90.0  INIT\n"
     ]
    }
   ],
   "source": [
    "print(table_cbl)"
   ]
  },
  {
   "cell_type": "code",
   "execution_count": 7,
   "metadata": {},
   "outputs": [
    {
     "name": "stdout",
     "output_type": "stream",
     "text": [
      "target_name s_ra s_dec ... filters dataproduct_type      obs_title     \n",
      "----------- ---- ----- ... ------- ---------------- -------------------\n",
      "    SECTOR1  5.3  73.9 ...     CLS        intensity                none\n",
      "    SECTOR1  5.3  70.9 ...    OIII        intensity                none\n",
      "    SECTOR1  5.3  67.9 ...       L            black test black sequence\n",
      "    SECTOR1  5.3  64.9 ...   SA200        intensity                none\n"
     ]
    },
    {
     "data": {
      "text/plain": [
       "True"
      ]
     },
     "execution_count": 7,
     "metadata": {},
     "output_type": "execute_result"
    }
   ],
   "source": [
    "# Initialization FilterWheel\n",
    "# Device 2 for simul\n",
    "filterwheel = FilterWheel(cbl.server, 2)\n",
    "filterwheel.position(0)\n",
    "planningtable.pprint()\n",
    "plan = planningtable[0]\n",
    "\n",
    "cbl.setfilteralpaca(filterwheel,planning.getfilter(plan))"
   ]
  },
  {
   "cell_type": "code",
   "execution_count": 8,
   "metadata": {},
   "outputs": [
    {
     "data": {
      "text/plain": [
       "(5.3, 73.9, 'CLS', 1, 60)"
      ]
     },
     "execution_count": 8,
     "metadata": {},
     "output_type": "execute_result"
    }
   ],
   "source": [
    "planning.getRA(plan),planning.getDEC(plan),planning.getfilter(plan),planning.getobservationID(plan),planning.getexptime(plan)"
   ]
  },
  {
   "cell_type": "code",
   "execution_count": 9,
   "metadata": {},
   "outputs": [
    {
     "data": {
      "text/plain": [
       "('5.24', '42.64', 'SA200', '251')"
      ]
     },
     "execution_count": 9,
     "metadata": {},
     "output_type": "execute_result"
    }
   ],
   "source": [
    "from astropy.table import Table\n",
    "plan = Table()\n",
    "plan['target_names'] = ['M1']\n",
    "plan['s_ra'] = ['5.24']\n",
    "plan['s_dec'] = ['42.64']\n",
    "plan['t_exptime'] = ['300']\n",
    "plan['obs_id'] = ['251']\n",
    "plan['binning'] = ['1']\n",
    "plan['filters'] = ['SA200']\n",
    "plan['dataproduct_type'] = ['light']\n",
    "plan['obs_title'] = ['none']\n",
    "\n",
    "planning.getRA(plan)[0],planning.getDEC(plan)[0],planning.getfilter(plan)[0],planning.getobservationID(plan)[0]"
   ]
  },
  {
   "cell_type": "markdown",
   "metadata": {},
   "source": [
    "#### Ephemcc class tests\n",
    "\n",
    "The Alpaca class is used to test the movement of the telescope"
   ]
  },
  {
   "cell_type": "code",
   "execution_count": 10,
   "metadata": {},
   "outputs": [
    {
     "data": {
      "text/plain": [
       "'-0.3531%2040.235%20100'"
      ]
     },
     "execution_count": 10,
     "metadata": {},
     "output_type": "execute_result"
    }
   ],
   "source": [
    "cbl.site_lat = 40.235\n",
    "ephcc.observer = cbl.ephemccgetobserver()\n",
    "ephcc.observer "
   ]
  },
  {
   "cell_type": "code",
   "execution_count": 11,
   "metadata": {},
   "outputs": [
    {
     "name": "stdout",
     "output_type": "stream",
     "text": [
      "100% [................................................................................] 7984 / 7984  target          epoch                ra      ...     ddec       dist_dot  \n",
      "                                    \"h:m:s\"    ... arcsec / min    km / s   \n",
      "--------- ---------------------- ------------- ... ------------ ------------\n",
      "C/2020 M3 2021-02-11T22:00:00.00 05 47 50.8889 ...     -0.10176   30.9442019\n",
      "C/2020 M3 2021-02-12T22:00:00.00 05 49 15.5292 ...     -0.10831   31.1395724\n",
      "C/2020 M3 2021-02-13T22:00:00.00 05 50 41.2519 ...     -0.11459   31.3321177\n",
      "C/2020 M3 2021-02-14T22:00:00.00 05 52  8.0186 ...     -0.12063   31.5218233\n",
      "C/2020 M3 2021-02-15T22:00:00.00 05 53 35.7905 ...     -0.12643   31.7086962\n",
      "C/2020 M3 2021-02-16T22:00:00.00 05 55  4.5291 ...     -0.13201   31.8927572\n",
      "C/2020 M3 2021-02-17T22:00:00.00 05 56 34.1957 ...     -0.13738   32.0740354\n",
      "C/2020 M3 2021-02-18T22:00:00.00 05 58  4.7521 ...     -0.14255   32.2525639\n",
      "C/2020 M3 2021-02-19T22:00:00.00 05 59 36.1608 ...     -0.14753   32.4283793\n",
      "C/2020 M3 2021-02-20T22:00:00.00 06 01  8.3844 ...     -0.15234   32.6015229\n"
     ]
    }
   ],
   "source": [
    "ephcc.setep('2021-02-11T22:00:00')\n",
    "ephcc.setndb(10)\n",
    "print(ephcc.get())"
   ]
  },
  {
   "cell_type": "code",
   "execution_count": 25,
   "metadata": {},
   "outputs": [
    {
     "data": {
      "text/html": [
       "<i>Table length=10</i>\n",
       "<table id=\"table2194722483264\" class=\"table-striped table-bordered table-condensed\">\n",
       "<thead><tr><th>target</th><th>epoch</th><th>ra</th><th>dec</th><th>distance</th><th>mv</th><th>phase</th><th>elongation</th><th>dracosdec</th><th>ddec</th><th>dist_dot</th></tr></thead>\n",
       "<thead><tr><th></th><th></th><th>&quot;h:m:s&quot;</th><th>&quot;d:m:s&quot;</th><th>AU</th><th></th><th>deg</th><th>deg</th><th>arcsec / min</th><th>arcsec / min</th><th>km / s</th></tr></thead>\n",
       "<thead><tr><th>str20</th><th>str24</th><th>str13</th><th>str13</th><th>float64</th><th>float32</th><th>float64</th><th>float64</th><th>float64</th><th>float64</th><th>float64</th></tr></thead>\n",
       "<tr><td>C/2020 M3</td><td>2021-02-11T22:00:00.00</td><td>05 47 50.8889</td><td>+48 31  7.850</td><td>1.304197755</td><td>16.970</td><td>25.03</td><td>121.0</td><td>0.56001</td><td>-0.10176</td><td>30.9442019</td></tr>\n",
       "<tr><td>C/2020 M3</td><td>2021-02-12T22:00:00.00</td><td>05 49 15.5292</td><td>+48 28 46.942</td><td>1.322067184</td><td>17.040</td><td>25.08</td><td>120.35</td><td>0.56844</td><td>-0.10831</td><td>31.1395724</td></tr>\n",
       "<tr><td>C/2020 M3</td><td>2021-02-13T22:00:00.00</td><td>05 50 41.2519</td><td>+48 26 16.885</td><td>1.34004724</td><td>17.110</td><td>25.12</td><td>119.71</td><td>0.57665</td><td>-0.11459</td><td>31.3321177</td></tr>\n",
       "<tr><td>C/2020 M3</td><td>2021-02-14T22:00:00.00</td><td>05 52  8.0186</td><td>+48 23 38.040</td><td>1.358136295</td><td>17.180</td><td>25.16</td><td>119.07</td><td>0.58462</td><td>-0.12063</td><td>31.5218233</td></tr>\n",
       "<tr><td>C/2020 M3</td><td>2021-02-15T22:00:00.00</td><td>05 53 35.7905</td><td>+48 20 50.751</td><td>1.376332722</td><td>17.240</td><td>25.2</td><td>118.43</td><td>0.59235</td><td>-0.12643</td><td>31.7086962</td></tr>\n",
       "<tr><td>C/2020 M3</td><td>2021-02-16T22:00:00.00</td><td>05 55  4.5291</td><td>+48 17 55.339</td><td>1.394634902</td><td>17.310</td><td>25.23</td><td>117.8</td><td>0.59985</td><td>-0.13201</td><td>31.8927572</td></tr>\n",
       "<tr><td>C/2020 M3</td><td>2021-02-17T22:00:00.00</td><td>05 56 34.1957</td><td>+48 14 52.112</td><td>1.413041228</td><td>17.380</td><td>25.26</td><td>117.16</td><td>0.60712</td><td>-0.13738</td><td>32.0740354</td></tr>\n",
       "<tr><td>C/2020 M3</td><td>2021-02-18T22:00:00.00</td><td>05 58  4.7521</td><td>+48 11 41.355</td><td>1.431550113</td><td>17.450</td><td>25.28</td><td>116.53</td><td>0.61416</td><td>-0.14255</td><td>32.2525639</td></tr>\n",
       "<tr><td>C/2020 M3</td><td>2021-02-19T22:00:00.00</td><td>05 59 36.1608</td><td>+48 08 23.342</td><td>1.450159989</td><td>17.510</td><td>25.3</td><td>115.89</td><td>0.62096</td><td>-0.14753</td><td>32.4283793</td></tr>\n",
       "<tr><td>C/2020 M3</td><td>2021-02-20T22:00:00.00</td><td>06 01  8.3844</td><td>+48 04 58.329</td><td>1.46886931</td><td>17.580</td><td>25.31</td><td>115.26</td><td>0.62754</td><td>-0.15234</td><td>32.6015229</td></tr>\n",
       "</table>"
      ],
      "text/plain": [
       "<Table length=10>\n",
       "  target          epoch                ra      ...     ddec       dist_dot  \n",
       "                                    \"h:m:s\"    ... arcsec / min    km / s   \n",
       "  str20           str24              str13     ...   float64      float64   \n",
       "--------- ---------------------- ------------- ... ------------ ------------\n",
       "C/2020 M3 2021-02-11T22:00:00.00 05 47 50.8889 ...     -0.10176   30.9442019\n",
       "C/2020 M3 2021-02-12T22:00:00.00 05 49 15.5292 ...     -0.10831   31.1395724\n",
       "C/2020 M3 2021-02-13T22:00:00.00 05 50 41.2519 ...     -0.11459   31.3321177\n",
       "C/2020 M3 2021-02-14T22:00:00.00 05 52  8.0186 ...     -0.12063   31.5218233\n",
       "C/2020 M3 2021-02-15T22:00:00.00 05 53 35.7905 ...     -0.12643   31.7086962\n",
       "C/2020 M3 2021-02-16T22:00:00.00 05 55  4.5291 ...     -0.13201   31.8927572\n",
       "C/2020 M3 2021-02-17T22:00:00.00 05 56 34.1957 ...     -0.13738   32.0740354\n",
       "C/2020 M3 2021-02-18T22:00:00.00 05 58  4.7521 ...     -0.14255   32.2525639\n",
       "C/2020 M3 2021-02-19T22:00:00.00 05 59 36.1608 ...     -0.14753   32.4283793\n",
       "C/2020 M3 2021-02-20T22:00:00.00 06 01  8.3844 ...     -0.15234   32.6015229"
      ]
     },
     "execution_count": 25,
     "metadata": {},
     "output_type": "execute_result"
    }
   ],
   "source": [
    "from astropy import units as u\n",
    "from astropy.coordinates import SkyCoord, Angle\n",
    "from astropy.io.votable import parse_single_table\n",
    "\n",
    "\n",
    "table = parse_single_table(ephcc.filename).to_table()\n",
    "table"
   ]
  },
  {
   "cell_type": "code",
   "execution_count": 26,
   "metadata": {},
   "outputs": [
    {
     "data": {
      "text/plain": [
       "(array([86.96203708, 87.314705  , 87.67188292, 88.03341083, 88.39912708,\n",
       "        88.76887125, 89.14248208, 89.51980042, 89.90067   , 90.284935  ]),\n",
       " array([48.51884722, 48.47970611, 48.43802361, 48.3939    , 48.34743083,\n",
       "        48.29870528, 48.24780889, 48.19482083, 48.13981722, 48.08286917]))"
      ]
     },
     "execution_count": 26,
     "metadata": {},
     "output_type": "execute_result"
    }
   ],
   "source": [
    "c = SkyCoord(table['ra'], table['dec'], unit='deg', frame='icrs')\n",
    "c.ra.degree*15,c.dec.degree"
   ]
  },
  {
   "cell_type": "code",
   "execution_count": 13,
   "metadata": {},
   "outputs": [],
   "source": [
    "# Initialisation Telescope\n",
    "cbl.device = 1\n",
    "telescope = Telescope(cbl.server, cbl.device)\n",
    "telescope.sitelatitude(cbl.site_lat)\n",
    "telescope.sitelongitude(cbl.site_long)\n",
    "telescope.unpark()\n",
    "telescope.tracking(True)"
   ]
  },
  {
   "cell_type": "code",
   "execution_count": 15,
   "metadata": {},
   "outputs": [],
   "source": [
    "RA = c.ra.deg[0]\n",
    "DEC = c.dec.deg[0]\n",
    "RA = 4.00\n",
    "DEC = 36.22\n",
    "\n",
    "# Déplacement\n",
    "telescope.slewtocoordinates(RA,DEC)"
   ]
  },
  {
   "cell_type": "markdown",
   "metadata": {},
   "source": [
    "#### Check sofware tests"
   ]
  },
  {
   "cell_type": "code",
   "execution_count": 16,
   "metadata": {},
   "outputs": [],
   "source": [
    "sectortable = sct.readarchives(cbl.archive_table)"
   ]
  },
  {
   "cell_type": "code",
   "execution_count": 17,
   "metadata": {},
   "outputs": [
    {
     "data": {
      "image/png": "[encoded data removed]",
      "text/plain": [
       "<Figure size 504x504 with 1 Axes>"
      ]
     },
     "metadata": {
      "needs_background": "light"
     },
     "output_type": "display_data"
    },
    {
     "data": {
      "image/png": "[encoded data removed]",
      "text/plain": [
       "<Figure size 504x504 with 1 Axes>"
      ]
     },
     "metadata": {
      "needs_background": "light"
     },
     "output_type": "display_data"
    }
   ],
   "source": [
    "cbl.ra = 5.58\n",
    "cbl.dec = -5.36\n",
    "cbl.projections(sectortable)\n",
    "cbl.starmap()"
   ]
  },
  {
   "cell_type": "markdown",
   "metadata": {},
   "source": [
    "#### Planning tests\n",
    "\n",
    "Reading a google drive file and transforms it into a planning table"
   ]
  },
  {
   "cell_type": "code",
   "execution_count": 18,
   "metadata": {},
   "outputs": [
    {
     "data": {
      "text/html": [
       "<i>Table length=3</i>\n",
       "<table id=\"table2194617023264\" class=\"table-striped table-bordered table-condensed\">\n",
       "<thead><tr><th>target_name</th><th>s_ra</th><th>s_dec</th><th>t_exptime</th><th>obs_id</th><th>binning</th><th>filters</th><th>dataproduct_type</th><th>obs_title</th></tr></thead>\n",
       "<thead><tr><th>str7</th><th>float64</th><th>float64</th><th>int32</th><th>int32</th><th>int32</th><th>str5</th><th>str9</th><th>str19</th></tr></thead>\n",
       "<tr><td>SECTOR1</td><td>5.3</td><td>73.9</td><td>60</td><td>1</td><td>1</td><td>CLS</td><td>intensity</td><td>none</td></tr>\n",
       "<tr><td>SECTOR1</td><td>5.3</td><td>70.9</td><td>60</td><td>2</td><td>1</td><td>OIII</td><td>intensity</td><td>none</td></tr>\n",
       "<tr><td>SECTOR1</td><td>5.3</td><td>67.9</td><td>60</td><td>3</td><td>1</td><td>L</td><td>black</td><td>test black sequence</td></tr>\n",
       "</table>"
      ],
      "text/plain": [
       "<Table length=3>\n",
       "target_name   s_ra   s_dec  ... filters dataproduct_type      obs_title     \n",
       "    str7    float64 float64 ...   str5        str9              str19       \n",
       "----------- ------- ------- ... ------- ---------------- -------------------\n",
       "    SECTOR1     5.3    73.9 ...     CLS        intensity                none\n",
       "    SECTOR1     5.3    70.9 ...    OIII        intensity                none\n",
       "    SECTOR1     5.3    67.9 ...       L            black test black sequence"
      ]
     },
     "execution_count": 18,
     "metadata": {},
     "output_type": "execute_result"
    }
   ],
   "source": [
    "planningtable[0:3]"
   ]
  },
  {
   "cell_type": "code",
   "execution_count": 19,
   "metadata": {},
   "outputs": [
    {
     "data": {
      "text/plain": [
       "True"
      ]
     },
     "execution_count": 19,
     "metadata": {},
     "output_type": "execute_result"
    }
   ],
   "source": [
    "plan = planningtable[2]\n",
    "exp.setexptime(planning.getexptime(plan))\n",
    "exp.setnumber(planning.getobservationID(plan))"
   ]
  },
  {
   "cell_type": "code",
   "execution_count": 20,
   "metadata": {},
   "outputs": [
    {
     "data": {
      "text/plain": [
       "(60, 3)"
      ]
     },
     "execution_count": 20,
     "metadata": {},
     "output_type": "execute_result"
    }
   ],
   "source": [
    "exp.getexptime(),exp.getnumber()"
   ]
  },
  {
   "cell_type": "markdown",
   "metadata": {},
   "source": [
    "#### Exposure class tests"
   ]
  },
  {
   "cell_type": "code",
   "execution_count": 21,
   "metadata": {},
   "outputs": [
    {
     "data": {
      "text/plain": [
       "True"
      ]
     },
     "execution_count": 21,
     "metadata": {},
     "output_type": "execute_result"
    }
   ],
   "source": [
    "exp.todaytonumber()"
   ]
  },
  {
   "cell_type": "code",
   "execution_count": 22,
   "metadata": {},
   "outputs": [
    {
     "data": {
      "text/plain": [
       "'20210211224636'"
      ]
     },
     "execution_count": 22,
     "metadata": {},
     "output_type": "execute_result"
    }
   ],
   "source": [
    "exp.getnumber()"
   ]
  },
  {
   "cell_type": "code",
   "execution_count": 23,
   "metadata": {},
   "outputs": [
    {
     "data": {
      "text/plain": [
       "True"
      ]
     },
     "execution_count": 23,
     "metadata": {},
     "output_type": "execute_result"
    }
   ],
   "source": [
    "exp.setexptime(200)"
   ]
  },
  {
   "cell_type": "code",
   "execution_count": 24,
   "metadata": {},
   "outputs": [
    {
     "data": {
      "text/plain": [
       "200"
      ]
     },
     "execution_count": 24,
     "metadata": {},
     "output_type": "execute_result"
    }
   ],
   "source": [
    "exp.getexptime()"
   ]
  },
  {
   "cell_type": "code",
   "execution_count": null,
   "metadata": {},
   "outputs": [],
   "source": []
  }
 ],
 "metadata": {
  "kernelspec": {
   "display_name": "Python 3",
   "language": "python",
   "name": "python3"
  },
  "language_info": {
   "codemirror_mode": {
    "name": "ipython",
    "version": 3
   },
   "file_extension": ".py",
   "mimetype": "text/x-python",
   "name": "python",
   "nbconvert_exporter": "python",
   "pygments_lexer": "ipython3",
   "version": "3.8.5"
  }
 },
 "nbformat": 4,
 "nbformat_minor": 4
}
