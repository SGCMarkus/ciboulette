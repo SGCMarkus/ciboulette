{
 "cells": [
  {
   "cell_type": "code",
   "execution_count": 1,
   "metadata": {},
   "outputs": [],
   "source": [
    "import base.ciboulettepy as Cbl"
   ]
  },
  {
   "cell_type": "code",
   "execution_count": 2,
   "metadata": {},
   "outputs": [],
   "source": [
    "cbl = Cbl.ciboulette()"
   ]
  },
  {
   "cell_type": "code",
   "execution_count": 3,
   "metadata": {},
   "outputs": [],
   "source": [
    "table_cbl = cbl.ciboulettetable()"
   ]
  },
  {
   "cell_type": "code",
   "execution_count": 4,
   "metadata": {},
   "outputs": [],
   "source": [
    "cbl.server = '192.168.1.134:11111'"
   ]
  },
  {
   "cell_type": "code",
   "execution_count": 5,
   "metadata": {},
   "outputs": [
    {
     "data": {
      "text/plain": [
       "'192.168.1.134:11111'"
      ]
     },
     "execution_count": 5,
     "metadata": {},
     "output_type": "execute_result"
    }
   ],
   "source": [
    "cbl.server"
   ]
  },
  {
   "cell_type": "code",
   "execution_count": 7,
   "metadata": {},
   "outputs": [
    {
     "data": {
      "text/html": [
       "<i>Table length=1</i>\n",
       "<table id=\"table140367520792288\" class=\"table-striped table-bordered table-condensed\">\n",
       "<thead><tr><th>DRV_NAME</th><th>SERVER</th><th>DEVICE</th><th>FOCAL</th><th>SITE_LAT</th><th>SITE_LONG</th><th>INSTRUME</th><th>NAXIS1</th><th>NAXIS2</th><th>BINXY</th><th>PIXELXY</th><th>FILTER</th><th>NAME</th><th>OBSERVER</th><th>DATASET</th><th>ARCHIVES</th><th>RA</th><th>DEC</th><th>OBECT</th></tr></thead>\n",
       "<thead><tr><th>str16</th><th>str18</th><th>int64</th><th>float64</th><th>float64</th><th>float64</th><th>str10</th><th>int64</th><th>int64</th><th>int64</th><th>float64</th><th>str3</th><th>str12</th><th>str4</th><th>str13</th><th>str22</th><th>float64</th><th>float64</th><th>str4</th></tr></thead>\n",
       "<tr><td>FITS astropy 4.2</td><td>192.168.1.18:11111</td><td>0</td><td>100.0</td><td>49.5961</td><td>-0.3531</td><td>Atik 383L+</td><td>3326</td><td>2504</td><td>1</td><td>5.4</td><td>CLS</td><td>CIBOULETTE-A</td><td>CAM1</td><td>/home/dataset</td><td>/home/dataset/archives</td><td>0.0</td><td>90.0</td><td>INIT</td></tr>\n",
       "</table>"
      ],
      "text/plain": [
       "<Table length=1>\n",
       "    DRV_NAME           SERVER       DEVICE  FOCAL  ...    RA     DEC   OBECT\n",
       "     str16             str18        int64  float64 ... float64 float64  str4\n",
       "---------------- ------------------ ------ ------- ... ------- ------- -----\n",
       "FITS astropy 4.2 192.168.1.18:11111      0   100.0 ...     0.0    90.0  INIT"
      ]
     },
     "execution_count": 7,
     "metadata": {},
     "output_type": "execute_result"
    }
   ],
   "source": [
    "table_cbl"
   ]
  },
  {
   "cell_type": "code",
   "execution_count": null,
   "metadata": {},
   "outputs": [],
   "source": []
  }
 ],
 "metadata": {
  "kernelspec": {
   "display_name": "Python 3",
   "language": "python",
   "name": "python3"
  },
  "language_info": {
   "codemirror_mode": {
    "name": "ipython",
    "version": 3
   },
   "file_extension": ".py",
   "mimetype": "text/x-python",
   "name": "python",
   "nbconvert_exporter": "python",
   "pygments_lexer": "ipython3",
   "version": "3.8.5"
  }
 },
 "nbformat": 4,
 "nbformat_minor": 4
}
